{
 "cells": [
  {
   "cell_type": "code",
   "execution_count": null,
   "id": "3bcb6ffa",
   "metadata": {},
   "outputs": [],
   "source": [
    "import re\n",
    "import pandas as pd\n",
    "from pathlib import Path"
   ]
  },
  {
   "cell_type": "code",
   "execution_count": null,
   "id": "f99ff364",
   "metadata": {},
   "outputs": [],
   "source": [
    "# animal = 'chicken_109'\n",
    "# animal = 'crocodile'\n",
    "# animal = 'komodo'\n",
    "animal = 'turtle_painted'\n",
    "\n",
    "# TODO: fix names for all files and columns and stuff...........\n",
    "# TODO: find better name for this variable\n",
    "\n",
    "suffix = 'lps_8h'\n",
    "\n",
    "base_filepath = f'../../data/bulk_rna/animals/{animal}/edge_r/unfiltered/{animal}.txt'\n",
    "count_filepath = f'../../data/bulk_rna/animals/{animal}/edge_r/filtered/count_{suffix}.txt'\n",
    "info_filepath = f'../../data/bulk_rna/animals/{animal}/edge_r/filtered/info_{suffix}.csv'\n",
    "\n",
    "# read count matrix\n",
    "df = pd.read_csv(base_filepath, \n",
    "                 delimiter = '\\t',\n",
    "                 index_col=0)\n",
    "df"
   ]
  },
  {
   "cell_type": "code",
   "execution_count": null,
   "id": "6cf4649e",
   "metadata": {},
   "outputs": [],
   "source": [
    "# Here you pick which samples you want to compare\n",
    "df: pd.DataFrame = df[[\"turtle_3_control_1\", \"turtle_3_control_2\", \"turtle_3_lps_8h\", \"turtle_5_lps_8h\"]]\n",
    "df"
   ]
  },
  {
   "cell_type": "code",
   "execution_count": null,
   "id": "bb23f94e",
   "metadata": {},
   "outputs": [],
   "source": [
    "df_filtered = df[(df >= 2).sum(axis=1) >= 2]\n",
    "# filterig genes by TPM. in this case we take genes that have at least 2 TPMS in at least 2 libraries\n",
    "# (df > 2) - this is where you control the minimum TPM for a gene\n",
    "#  >= 2 - this is where you control how many samples must follow the minimun TPM rule\n",
    "\n",
    "df_filtered"
   ]
  },
  {
   "cell_type": "code",
   "execution_count": null,
   "id": "ab40b357",
   "metadata": {},
   "outputs": [],
   "source": [
    "# save new count matrix to file \n",
    "df_filtered.to_csv(count_filepath, sep='\\t')"
   ]
  },
  {
   "cell_type": "code",
   "execution_count": null,
   "id": "2c92ecef",
   "metadata": {},
   "outputs": [],
   "source": [
    "# This code generates the sample info. YOU WILL need to edit it for different species depending on the samples names.\n",
    "# This will print a table with the sample name and the condition ( CTRL/PIC_4/PIC_8/LPS_4/LPS_8/...)\n",
    "\n",
    "samples = []\n",
    "conditions = []\n",
    "for sample in df.columns:\n",
    "    samples.append(sample)\n",
    "    #condition = \"LPS\"\n",
    "    hour = 0\n",
    "    if \"control\" in sample or \"ctrl\" in sample or \"CTRL\" in sample: # this might need to be changed if the sample name contains \"CTRL\" instead of \"control\"\n",
    "        condition = \"CTRL\"\n",
    "    else:\n",
    "        print(sample)\n",
    "        hour = re.search(\"([0-9]+)h\", sample).group(1)\n",
    "        if \"pic\" in sample:\n",
    "            condition = f\"pic_{hour}\"\n",
    "        if \"lps\" in sample:\n",
    "            condition = f\"lps_{hour}\"\n",
    "        if \"lf\" in sample:\n",
    "            condition = f\"lf_{hour}\"\n",
    "    conditions.append(condition)\n",
    "\n",
    "info_df = pd.DataFrame({\"sample\": samples,\"type\": conditions})\n",
    "info_df"
   ]
  },
  {
   "cell_type": "code",
   "execution_count": null,
   "id": "48309aa3",
   "metadata": {},
   "outputs": [],
   "source": [
    "# save info to csv file\n",
    "info_df.to_csv(info_filepath)"
   ]
  }
 ],
 "metadata": {
  "kernelspec": {
   "display_name": "Python 3 (ipykernel)",
   "language": "python",
   "name": "python3"
  },
  "language_info": {
   "codemirror_mode": {
    "name": "ipython",
    "version": 3
   },
   "file_extension": ".py",
   "mimetype": "text/x-python",
   "name": "python",
   "nbconvert_exporter": "python",
   "pygments_lexer": "ipython3",
   "version": "3.10.11"
  }
 },
 "nbformat": 4,
 "nbformat_minor": 5
}
