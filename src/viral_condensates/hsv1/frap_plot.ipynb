{
 "cells": [
  {
   "cell_type": "code",
   "execution_count": 1,
   "id": "4590818c",
   "metadata": {},
   "outputs": [],
   "source": [
    "from itertools import chain\n",
    "from pathlib import Path\n",
    "\n",
    "import numpy as np\n",
    "import pandas as pd\n",
    "import plotly.graph_objects as go\n",
    "from moviepy import VideoFileClip, concatenate_videoclips\n",
    "from scipy.optimize import curve_fit"
   ]
  },
  {
   "cell_type": "code",
   "execution_count": 2,
   "id": "712c31fb",
   "metadata": {},
   "outputs": [],
   "source": [
    "def frap_plot(filepath: Path):\n",
    "    try:\n",
    "        df = pd.read_csv(filepath, encoding='utf-16', index_col=0)\n",
    "    except pd.errors.ParserError:\n",
    "        df = pd.read_csv(filepath, encoding='utf-16', index_col=0, skiprows=1)\n",
    "\n",
    "    # print(f'row count: {df.shape[0]}')\n",
    "\n",
    "    # Clean the df\n",
    "    df.columns = df.columns.str.strip()  # Remove leading/trailing spaces\n",
    "    df.columns = df.columns.str.replace(r'\\s*\\[\\]\\s*', '', regex=True)  # Remove empty brackets\n",
    "    df = df.dropna(axis=1, how='all')  # Drop columns that are completely empty\n",
    "\n",
    "    # df = df.dropna(axis=0, how='all')  # Drop rows that are completely empty\n",
    "    df = df.loc[:, (df != 0).mean(axis=0) > 0.1]  # Drop columns with more than 90% zeros\n",
    "    d_rows = df.shape[0] - df.shape[0]\n",
    "    # print(f'row count after cleaning: {df.shape[0]}, dropped {d_rows} rows')\n",
    "\n",
    "    # Scatter plot the cleaned data using Plotly\n",
    "    fig = go.Figure()\n",
    "\n",
    "    for column in df.columns:\n",
    "        fig.add_trace(\n",
    "            go.Scatter(\n",
    "                x=df.index,\n",
    "                y=df[column],\n",
    "                mode='lines',\n",
    "                name=column,\n",
    "            ),\n",
    "        )\n",
    "\n",
    "    fig.update_layout(\n",
    "        title=filepath.stem,\n",
    "        xaxis_title='Time (s)',\n",
    "        yaxis_title='Intensity (a.u.)',\n",
    "        legend_title='Legend',\n",
    "        template='plotly_white',\n",
    "    )\n",
    "\n",
    "    fig.show()"
   ]
  },
  {
   "cell_type": "code",
   "execution_count": 3,
   "id": "97b7bcec",
   "metadata": {},
   "outputs": [],
   "source": [
    "# get all the names of the fraps\n",
    "\n",
    "base_path = Path().absolute().parent.parent.parent / 'data/viral_condensates'\n",
    "all_csvs = list(base_path.glob('**/*.csv'))\n",
    "all_fraps = [\n",
    "    filepath.parent\n",
    "    for filepath in all_csvs\n",
    "]"
   ]
  },
  {
   "cell_type": "code",
   "execution_count": 4,
   "id": "8d768200",
   "metadata": {},
   "outputs": [
    {
     "name": "stdout",
     "output_type": "stream",
     "text": [
      "Found 83 fraps\n"
     ]
    },
    {
     "data": {
      "text/plain": [
       "['c:/Code/data/viral_condensates/hsv1/ul14/UL14 GFP FRAP01',\n",
       " 'c:/Code/data/viral_condensates/hsv1/ul14/UL14 GFP FRAP02',\n",
       " 'c:/Code/data/viral_condensates/hsv1/ul14/UL14 GFP FRAP03',\n",
       " 'c:/Code/data/viral_condensates/hsv1/ul14/UL14 GFP FRAP04',\n",
       " 'c:/Code/data/viral_condensates/hsv1/ul14/UL14 GFP FRAP05',\n",
       " 'c:/Code/data/viral_condensates/hsv1/ul14/UL14 GFP FRAP06',\n",
       " 'c:/Code/data/viral_condensates/hsv1/ul14/UL14 GFP HSV1 FRAP01',\n",
       " 'c:/Code/data/viral_condensates/hsv1/ul14/UL14 GFP HSV1 FRAP02',\n",
       " 'c:/Code/data/viral_condensates/hsv1/ul14/UL14 GFP HSV1 FRAP03',\n",
       " 'c:/Code/data/viral_condensates/hsv1/ul14/UL14 GFP HSV1 FRAP04',\n",
       " 'c:/Code/data/viral_condensates/hsv1/ul14/UL14 GFP HSV1 FRAP05',\n",
       " 'c:/Code/data/viral_condensates/hsv1/ul21/UL21 GFP FRAP01',\n",
       " 'c:/Code/data/viral_condensates/hsv1/ul21/UL21 GFP FRAP02',\n",
       " 'c:/Code/data/viral_condensates/hsv1/ul21/UL21 GFP FRAP03',\n",
       " 'c:/Code/data/viral_condensates/hsv1/ul21/UL21 GFP FRAP04',\n",
       " 'c:/Code/data/viral_condensates/hsv1/ul21/UL21 GFP FRAP05',\n",
       " 'c:/Code/data/viral_condensates/hsv1/ul21/UL21 GFP FRAP07',\n",
       " 'c:/Code/data/viral_condensates/hsv1/ul21/UL21 GFP HSV1 FRAP01',\n",
       " 'c:/Code/data/viral_condensates/hsv1/ul21/UL21 GFP HSV1 FRAP02',\n",
       " 'c:/Code/data/viral_condensates/hsv1/ul21/UL21 GFP HSV1 FRAP03',\n",
       " 'c:/Code/data/viral_condensates/hsv1/ul21/UL21 GFP HSV1 FRAP04',\n",
       " 'c:/Code/data/viral_condensates/hsv1/ul21/UL21 GFP HSV1 FRAP05',\n",
       " 'c:/Code/data/viral_condensates/hsv1/ul21/UL21 GFP HSV1 FRAP06',\n",
       " 'c:/Code/data/viral_condensates/hsv1/ul24/UL24 GFP FRAP01',\n",
       " 'c:/Code/data/viral_condensates/hsv1/ul24/UL24 GFP FRAP02',\n",
       " 'c:/Code/data/viral_condensates/hsv1/ul24/UL24 GFP FRAP03',\n",
       " 'c:/Code/data/viral_condensates/hsv1/ul24/UL24 GFP FRAP04',\n",
       " 'c:/Code/data/viral_condensates/hsv1/ul24/UL24 GFP FRAP05',\n",
       " 'c:/Code/data/viral_condensates/hsv1/ul24/UL24 GFP FRAP06',\n",
       " 'c:/Code/data/viral_condensates/hsv1/ul24/UL24 GFP HSV1 FRAP01',\n",
       " 'c:/Code/data/viral_condensates/hsv1/ul24/UL24 GFP HSV1 FRAP02',\n",
       " 'c:/Code/data/viral_condensates/hsv1/ul24/UL24 GFP HSV1 FRAP03',\n",
       " 'c:/Code/data/viral_condensates/hsv1/ul24/UL24 GFP HSV1 FRAP04',\n",
       " 'c:/Code/data/viral_condensates/hsv1/ul24/UL24 GFP HSV1 FRAP05',\n",
       " 'c:/Code/data/viral_condensates/hsv1/ul24/UL24 GFP HSV1 FRAP06',\n",
       " 'c:/Code/data/viral_condensates/hsv1/ul3/UL3 GFP FRAP01',\n",
       " 'c:/Code/data/viral_condensates/hsv1/ul3/UL3 GFP FRAP02',\n",
       " 'c:/Code/data/viral_condensates/hsv1/ul3/UL3 GFP FRAP03',\n",
       " 'c:/Code/data/viral_condensates/hsv1/ul3/UL3 GFP FRAP04',\n",
       " 'c:/Code/data/viral_condensates/hsv1/ul3/UL3 GFP FRAP05',\n",
       " 'c:/Code/data/viral_condensates/hsv1/ul3/UL3 GFP FRAP06',\n",
       " 'c:/Code/data/viral_condensates/hsv1/ul3/UL3 GFP HSV1 FRAP01',\n",
       " 'c:/Code/data/viral_condensates/hsv1/ul3/UL3 GFP HSV1 FRAP02',\n",
       " 'c:/Code/data/viral_condensates/hsv1/ul3/UL3 GFP HSV1 FRAP03',\n",
       " 'c:/Code/data/viral_condensates/hsv1/ul3/UL3 GFP HSV1 FRAP04',\n",
       " 'c:/Code/data/viral_condensates/hsv1/ul3/UL3 GFP HSV1 FRAP05',\n",
       " 'c:/Code/data/viral_condensates/hsv1/ul3/UL3 GFP HSV1 FRAP05',\n",
       " 'c:/Code/data/viral_condensates/hsv1/ul3/UL3 GFP HSV1 FRAP06',\n",
       " 'c:/Code/data/viral_condensates/hsv1/ul3/UL3 GFP HSV1 FRAP07',\n",
       " 'c:/Code/data/viral_condensates/hsv1/ul3/UL3 GFP HSV1 FRAP08',\n",
       " 'c:/Code/data/viral_condensates/hsv1/ul39/UL39 GFP FRAP01',\n",
       " 'c:/Code/data/viral_condensates/hsv1/ul39/UL39 GFP FRAP02',\n",
       " 'c:/Code/data/viral_condensates/hsv1/ul39/UL39 GFP FRAP03',\n",
       " 'c:/Code/data/viral_condensates/hsv1/ul39/UL39 GFP FRAP04',\n",
       " 'c:/Code/data/viral_condensates/hsv1/ul39/UL39 GFP FRAP05',\n",
       " 'c:/Code/data/viral_condensates/hsv1/ul39/UL39 GFP HSV1 FRAP01',\n",
       " 'c:/Code/data/viral_condensates/hsv1/ul39/UL39 GFP HSV1 FRAP02',\n",
       " 'c:/Code/data/viral_condensates/hsv1/ul39/UL39 GFP HSV1 FRAP03',\n",
       " 'c:/Code/data/viral_condensates/hsv1/ul39/UL39 GFP HSV1 FRAP04',\n",
       " 'c:/Code/data/viral_condensates/hsv1/ul39/UL39 GFP HSV1 FRAP05',\n",
       " 'c:/Code/data/viral_condensates/hsv1/ul49/UL49 GFP FRAP01',\n",
       " 'c:/Code/data/viral_condensates/hsv1/ul49/UL49 GFP FRAP02',\n",
       " 'c:/Code/data/viral_condensates/hsv1/ul49/UL49 GFP FRAP02 021925',\n",
       " 'c:/Code/data/viral_condensates/hsv1/ul49/UL49 GFP FRAP03',\n",
       " 'c:/Code/data/viral_condensates/hsv1/ul49/UL49 GFP FRAP04 021925',\n",
       " 'c:/Code/data/viral_condensates/hsv1/ul49/UL49 GFP FRAP05 021925',\n",
       " 'c:/Code/data/viral_condensates/hsv1/ul49/UL49 GFP FRAP06 021925',\n",
       " 'c:/Code/data/viral_condensates/hsv1/ul49/UL49 GFP FRAP07 021925',\n",
       " 'c:/Code/data/viral_condensates/hsv1/ul49/UL49 GFP HSV1 FRAP01',\n",
       " 'c:/Code/data/viral_condensates/hsv1/ul49/UL49 GFP HSV1 FRAP02',\n",
       " 'c:/Code/data/viral_condensates/hsv1/ul49/UL49 GFP HSV1 FRAP03',\n",
       " 'c:/Code/data/viral_condensates/hsv1/ul49/UL49 GFP HSV1 FRAP04',\n",
       " 'c:/Code/data/viral_condensates/hsv1/ul49/UL49 GFP HSV1 FRAP05',\n",
       " 'c:/Code/data/viral_condensates/hsv1/ul49/UL49 GFP HSV1 FRAP06',\n",
       " 'c:/Code/data/viral_condensates/hsv1/us11/US11 GFP FRAP01',\n",
       " 'c:/Code/data/viral_condensates/hsv1/us11/US11 GFP FRAP02',\n",
       " 'c:/Code/data/viral_condensates/hsv1/us11/US11 GFP FRAP03',\n",
       " 'c:/Code/data/viral_condensates/hsv1/us11/US11 GFP FRAP07',\n",
       " 'c:/Code/data/viral_condensates/hsv1/us11/US11 GFP HSV1 FRAP01',\n",
       " 'c:/Code/data/viral_condensates/hsv1/us11/US11 GFP HSV1 FRAP02',\n",
       " 'c:/Code/data/viral_condensates/hsv1/us11/US11 GFP HSV1 FRAP03',\n",
       " 'c:/Code/data/viral_condensates/hsv1/us11/US11 GFP HSV1 FRAP04',\n",
       " 'c:/Code/data/viral_condensates/hsv1/us11/US11 GFP HSV1 FRAP06']"
      ]
     },
     "execution_count": 4,
     "metadata": {},
     "output_type": "execute_result"
    }
   ],
   "source": [
    "print(f'Found {len(all_fraps)} fraps')\n",
    "[i.as_posix() for i in all_fraps]"
   ]
  },
  {
   "cell_type": "code",
   "execution_count": 5,
   "id": "51fe7adc",
   "metadata": {},
   "outputs": [
    {
     "name": "stdout",
     "output_type": "stream",
     "text": [
      "'c:/Code/data/viral_condensates/hsv1/ul14/UL14 GFP FRAP01/UL14 GFP FRAP01.avi' already exists, skipping...\n",
      "'c:/Code/data/viral_condensates/hsv1/ul14/UL14 GFP FRAP02/UL14 GFP FRAP02.avi' already exists, skipping...\n",
      "'c:/Code/data/viral_condensates/hsv1/ul14/UL14 GFP FRAP03/UL14 GFP FRAP03.avi' already exists, skipping...\n",
      "'c:/Code/data/viral_condensates/hsv1/ul14/UL14 GFP FRAP04/UL14 GFP FRAP04.avi' already exists, skipping...\n",
      "'c:/Code/data/viral_condensates/hsv1/ul14/UL14 GFP FRAP05/UL14 GFP FRAP05.avi' already exists, skipping...\n",
      "'c:/Code/data/viral_condensates/hsv1/ul14/UL14 GFP FRAP06/UL14 GFP FRAP06.avi' already exists, skipping...\n",
      "'c:/Code/data/viral_condensates/hsv1/ul14/UL14 GFP HSV1 FRAP01/UL14 GFP HSV1 FRAP01.avi' already exists, skipping...\n",
      "'c:/Code/data/viral_condensates/hsv1/ul14/UL14 GFP HSV1 FRAP02/UL14 GFP HSV1 FRAP02.avi' already exists, skipping...\n",
      "'c:/Code/data/viral_condensates/hsv1/ul14/UL14 GFP HSV1 FRAP03/UL14 GFP HSV1 FRAP03.avi' already exists, skipping...\n",
      "'c:/Code/data/viral_condensates/hsv1/ul14/UL14 GFP HSV1 FRAP04/UL14 GFP HSV1 FRAP04.avi' already exists, skipping...\n",
      "'c:/Code/data/viral_condensates/hsv1/ul14/UL14 GFP HSV1 FRAP05/UL14 GFP HSV1 FRAP05.avi' already exists, skipping...\n",
      "'c:/Code/data/viral_condensates/hsv1/ul21/UL21 GFP FRAP01/UL21 GFP FRAP01.avi' already exists, skipping...\n",
      "'c:/Code/data/viral_condensates/hsv1/ul21/UL21 GFP FRAP02/UL21 GFP FRAP02.avi' already exists, skipping...\n",
      "'c:/Code/data/viral_condensates/hsv1/ul21/UL21 GFP FRAP03/UL21 GFP FRAP03.avi' already exists, skipping...\n",
      "'c:/Code/data/viral_condensates/hsv1/ul21/UL21 GFP FRAP04/UL21 GFP FRAP04.avi' already exists, skipping...\n",
      "'c:/Code/data/viral_condensates/hsv1/ul21/UL21 GFP FRAP05/UL21 GFP FRAP05.avi' already exists, skipping...\n",
      "'c:/Code/data/viral_condensates/hsv1/ul21/UL21 GFP FRAP07/UL21 GFP FRAP07.avi' already exists, skipping...\n",
      "'c:/Code/data/viral_condensates/hsv1/ul21/UL21 GFP HSV1 FRAP01/UL21 GFP HSV1 FRAP01.avi' already exists, skipping...\n",
      "'c:/Code/data/viral_condensates/hsv1/ul21/UL21 GFP HSV1 FRAP02/UL21 GFP HSV1 FRAP02.avi' already exists, skipping...\n",
      "'c:/Code/data/viral_condensates/hsv1/ul21/UL21 GFP HSV1 FRAP03/UL21 GFP HSV1 FRAP03.avi' already exists, skipping...\n",
      "'c:/Code/data/viral_condensates/hsv1/ul21/UL21 GFP HSV1 FRAP04/UL21 GFP HSV1 FRAP04.avi' already exists, skipping...\n",
      "'c:/Code/data/viral_condensates/hsv1/ul21/UL21 GFP HSV1 FRAP05/UL21 GFP HSV1 FRAP05.avi' already exists, skipping...\n",
      "'c:/Code/data/viral_condensates/hsv1/ul21/UL21 GFP HSV1 FRAP06/UL21 GFP HSV1 FRAP06.avi' already exists, skipping...\n",
      "'c:/Code/data/viral_condensates/hsv1/ul24/UL24 GFP FRAP01/UL24 GFP FRAP01.avi' already exists, skipping...\n",
      "'c:/Code/data/viral_condensates/hsv1/ul24/UL24 GFP FRAP02/UL24 GFP FRAP02.avi' already exists, skipping...\n",
      "'c:/Code/data/viral_condensates/hsv1/ul24/UL24 GFP FRAP03/UL24 GFP FRAP03.avi' already exists, skipping...\n",
      "'c:/Code/data/viral_condensates/hsv1/ul24/UL24 GFP FRAP04/UL24 GFP FRAP04.avi' already exists, skipping...\n",
      "'c:/Code/data/viral_condensates/hsv1/ul24/UL24 GFP FRAP05/UL24 GFP FRAP05.avi' already exists, skipping...\n",
      "'c:/Code/data/viral_condensates/hsv1/ul24/UL24 GFP FRAP06/UL24 GFP FRAP06.avi' already exists, skipping...\n",
      "'c:/Code/data/viral_condensates/hsv1/ul24/UL24 GFP HSV1 FRAP01/UL24 GFP HSV1 FRAP01.avi' already exists, skipping...\n",
      "'c:/Code/data/viral_condensates/hsv1/ul24/UL24 GFP HSV1 FRAP02/UL24 GFP HSV1 FRAP02.avi' already exists, skipping...\n",
      "'c:/Code/data/viral_condensates/hsv1/ul24/UL24 GFP HSV1 FRAP03/UL24 GFP HSV1 FRAP03.avi' already exists, skipping...\n",
      "'c:/Code/data/viral_condensates/hsv1/ul24/UL24 GFP HSV1 FRAP04/UL24 GFP HSV1 FRAP04.avi' already exists, skipping...\n",
      "'c:/Code/data/viral_condensates/hsv1/ul24/UL24 GFP HSV1 FRAP05/UL24 GFP HSV1 FRAP05.avi' already exists, skipping...\n",
      "'c:/Code/data/viral_condensates/hsv1/ul24/UL24 GFP HSV1 FRAP06/UL24 GFP HSV1 FRAP06.avi' already exists, skipping...\n",
      "'c:/Code/data/viral_condensates/hsv1/ul3/UL3 GFP FRAP01/UL3 GFP FRAP01.avi' already exists, skipping...\n",
      "'c:/Code/data/viral_condensates/hsv1/ul3/UL3 GFP FRAP02/UL3 GFP FRAP02.avi' already exists, skipping...\n",
      "'c:/Code/data/viral_condensates/hsv1/ul3/UL3 GFP FRAP03/UL3 GFP FRAP03.avi' already exists, skipping...\n",
      "'c:/Code/data/viral_condensates/hsv1/ul3/UL3 GFP FRAP04/UL3 GFP FRAP04.avi' already exists, skipping...\n",
      "'c:/Code/data/viral_condensates/hsv1/ul3/UL3 GFP FRAP05/UL3 GFP FRAP05.avi' already exists, skipping...\n",
      "'c:/Code/data/viral_condensates/hsv1/ul3/UL3 GFP FRAP06/UL3 GFP FRAP06.avi' already exists, skipping...\n",
      "'c:/Code/data/viral_condensates/hsv1/ul3/UL3 GFP HSV1 FRAP01/UL3 GFP HSV1 FRAP01.avi' already exists, skipping...\n",
      "'c:/Code/data/viral_condensates/hsv1/ul3/UL3 GFP HSV1 FRAP02/UL3 GFP HSV1 FRAP02.avi' already exists, skipping...\n",
      "'c:/Code/data/viral_condensates/hsv1/ul3/UL3 GFP HSV1 FRAP03/UL3 GFP HSV1 FRAP03.avi' already exists, skipping...\n",
      "'c:/Code/data/viral_condensates/hsv1/ul3/UL3 GFP HSV1 FRAP04/UL3 GFP HSV1 FRAP04.avi' already exists, skipping...\n",
      "'c:/Code/data/viral_condensates/hsv1/ul3/UL3 GFP HSV1 FRAP05/UL3 GFP HSV1 FRAP05.avi' already exists, skipping...\n",
      "'c:/Code/data/viral_condensates/hsv1/ul3/UL3 GFP HSV1 FRAP05/UL3 GFP HSV1 FRAP05.avi' already exists, skipping...\n",
      "'c:/Code/data/viral_condensates/hsv1/ul3/UL3 GFP HSV1 FRAP06/UL3 GFP HSV1 FRAP06.avi' already exists, skipping...\n",
      "'c:/Code/data/viral_condensates/hsv1/ul3/UL3 GFP HSV1 FRAP07/UL3 GFP HSV1 FRAP07.avi' already exists, skipping...\n",
      "'c:/Code/data/viral_condensates/hsv1/ul3/UL3 GFP HSV1 FRAP08/UL3 GFP HSV1 FRAP08.avi' already exists, skipping...\n",
      "'c:/Code/data/viral_condensates/hsv1/ul39/UL39 GFP FRAP01/UL39 GFP FRAP01.avi' already exists, skipping...\n",
      "'c:/Code/data/viral_condensates/hsv1/ul39/UL39 GFP FRAP02/UL39 GFP FRAP02.avi' already exists, skipping...\n",
      "'c:/Code/data/viral_condensates/hsv1/ul39/UL39 GFP FRAP03/UL39 GFP FRAP03.avi' already exists, skipping...\n",
      "'c:/Code/data/viral_condensates/hsv1/ul39/UL39 GFP FRAP04/UL39 GFP FRAP04.avi' already exists, skipping...\n",
      "'c:/Code/data/viral_condensates/hsv1/ul39/UL39 GFP FRAP05/UL39 GFP FRAP05.avi' already exists, skipping...\n",
      "'c:/Code/data/viral_condensates/hsv1/ul39/UL39 GFP HSV1 FRAP01/UL39 GFP HSV1 FRAP01.avi' already exists, skipping...\n",
      "'c:/Code/data/viral_condensates/hsv1/ul39/UL39 GFP HSV1 FRAP02/UL39 GFP HSV1 FRAP02.avi' already exists, skipping...\n",
      "'c:/Code/data/viral_condensates/hsv1/ul39/UL39 GFP HSV1 FRAP03/UL39 GFP HSV1 FRAP03.avi' already exists, skipping...\n",
      "'c:/Code/data/viral_condensates/hsv1/ul39/UL39 GFP HSV1 FRAP04/UL39 GFP HSV1 FRAP04.avi' already exists, skipping...\n",
      "'c:/Code/data/viral_condensates/hsv1/ul39/UL39 GFP HSV1 FRAP05/UL39 GFP HSV1 FRAP05.avi' already exists, skipping...\n",
      "'c:/Code/data/viral_condensates/hsv1/ul49/UL49 GFP FRAP01/UL49 GFP FRAP01.avi' already exists, skipping...\n",
      "'c:/Code/data/viral_condensates/hsv1/ul49/UL49 GFP FRAP02/UL49 GFP FRAP02.avi' already exists, skipping...\n",
      "'c:/Code/data/viral_condensates/hsv1/ul49/UL49 GFP FRAP02 021925/UL49 GFP FRAP02 021925.avi' already exists, skipping...\n",
      "'c:/Code/data/viral_condensates/hsv1/ul49/UL49 GFP FRAP03/UL49 GFP FRAP03.avi' already exists, skipping...\n",
      "'c:/Code/data/viral_condensates/hsv1/ul49/UL49 GFP FRAP04 021925/UL49 GFP FRAP04 021925.avi' already exists, skipping...\n",
      "'c:/Code/data/viral_condensates/hsv1/ul49/UL49 GFP FRAP05 021925/UL49 GFP FRAP05 021925.avi' already exists, skipping...\n",
      "'c:/Code/data/viral_condensates/hsv1/ul49/UL49 GFP FRAP06 021925/UL49 GFP FRAP06 021925.avi' already exists, skipping...\n",
      "'c:/Code/data/viral_condensates/hsv1/ul49/UL49 GFP FRAP07 021925/UL49 GFP FRAP07 021925.avi' already exists, skipping...\n",
      "'c:/Code/data/viral_condensates/hsv1/ul49/UL49 GFP HSV1 FRAP01/UL49 GFP HSV1 FRAP01.avi' already exists, skipping...\n",
      "'c:/Code/data/viral_condensates/hsv1/ul49/UL49 GFP HSV1 FRAP02/UL49 GFP HSV1 FRAP02.avi' already exists, skipping...\n",
      "'c:/Code/data/viral_condensates/hsv1/ul49/UL49 GFP HSV1 FRAP03/UL49 GFP HSV1 FRAP03.avi' already exists, skipping...\n",
      "'c:/Code/data/viral_condensates/hsv1/ul49/UL49 GFP HSV1 FRAP04/UL49 GFP HSV1 FRAP04.avi' already exists, skipping...\n",
      "'c:/Code/data/viral_condensates/hsv1/ul49/UL49 GFP HSV1 FRAP05/UL49 GFP HSV1 FRAP05.avi' already exists, skipping...\n",
      "'c:/Code/data/viral_condensates/hsv1/ul49/UL49 GFP HSV1 FRAP06/UL49 GFP HSV1 FRAP06.avi' already exists, skipping...\n",
      "'c:/Code/data/viral_condensates/hsv1/us11/US11 GFP FRAP01/US11 GFP FRAP01.avi' already exists, skipping...\n",
      "'c:/Code/data/viral_condensates/hsv1/us11/US11 GFP FRAP02/US11 GFP FRAP02.avi' already exists, skipping...\n",
      "'c:/Code/data/viral_condensates/hsv1/us11/US11 GFP FRAP03/US11 GFP FRAP03.avi' already exists, skipping...\n",
      "'c:/Code/data/viral_condensates/hsv1/us11/US11 GFP FRAP07/US11 GFP FRAP07.avi' already exists, skipping...\n",
      "'c:/Code/data/viral_condensates/hsv1/us11/US11 GFP HSV1 FRAP01/US11 GFP HSV1 FRAP01.avi' already exists, skipping...\n",
      "'c:/Code/data/viral_condensates/hsv1/us11/US11 GFP HSV1 FRAP02/US11 GFP HSV1 FRAP02.avi' already exists, skipping...\n",
      "'c:/Code/data/viral_condensates/hsv1/us11/US11 GFP HSV1 FRAP03/US11 GFP HSV1 FRAP03.avi' already exists, skipping...\n",
      "'c:/Code/data/viral_condensates/hsv1/us11/US11 GFP HSV1 FRAP04/US11 GFP HSV1 FRAP04.avi' already exists, skipping...\n",
      "'c:/Code/data/viral_condensates/hsv1/us11/US11 GFP HSV1 FRAP06/US11 GFP HSV1 FRAP06.avi' already exists, skipping...\n"
     ]
    }
   ],
   "source": [
    "# concatenate all movies in the same folder\n",
    "\n",
    "for frap in all_fraps:\n",
    "    output_path = frap / f'{frap.name}.avi'\n",
    "    if output_path.exists():\n",
    "        print(f\"'{output_path.as_posix()}' already exists, skipping...\")\n",
    "        continue\n",
    "\n",
    "    clips = [\n",
    "        VideoFileClip(filepath.as_posix())\n",
    "        for filepath in chain(frap.glob('*.avi'),\n",
    "                              frap.glob('*.mp4'))\n",
    "    ]\n",
    "    if not clips:\n",
    "        print(f\"No video files found in '{frap.as_posix()}'\")\n",
    "        continue\n",
    "\n",
    "    merged_clip = concatenate_videoclips(clips)\n",
    "    merged_clip.write_videofile(output_path.as_posix(), codec='libx264', audio_codec='aac')\n",
    "    print(f\"Merged {len(clips)} clips into '{output_path.as_posix()}'\")"
   ]
  },
  {
   "cell_type": "code",
   "execution_count": null,
   "id": "a347e909",
   "metadata": {},
   "outputs": [
    {
     "data": {
      "application/vnd.plotly.v1+json": {
       "config": {
        "plotlyServerURL": "https://plot.ly"
       },
       "data": [
        {
         "mode": "lines",
         "name": "ROI.01",
         "type": "scatter",
         "x": {
          "bdata": "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",
          "dtype": "f8"
         },
         "y": {
          "bdata": "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",
          "dtype": "f8"
         }
        },
        {
         "mode": "lines",
         "name": "ROI.02",
         "type": "scatter",
         "x": {
          "bdata": "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",
          "dtype": "f8"
         },
         "y": {
          "bdata": "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",
          "dtype": "f8"
         }
        },
        {
         "mode": "lines",
         "name": "ROI.03",
         "type": "scatter",
         "x": {
          "bdata": "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",
          "dtype": "f8"
         },
         "y": {
          "bdata": "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",
          "dtype": "f8"
         }
        },
        {
         "mode": "lines",
         "name": "ROI.04",
         "type": "scatter",
         "x": {
          "bdata": "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",
          "dtype": "f8"
         },
         "y": {
          "bdata": "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",
          "dtype": "f8"
         }
        },
        {
         "mode": "lines",
         "name": "ROI.05",
         "type": "scatter",
         "x": {
          "bdata": "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",
          "dtype": "f8"
         },
         "y": {
          "bdata": "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",
          "dtype": "f8"
         }
        },
        {
         "mode": "lines",
         "name": "ROI.06",
         "type": "scatter",
         "x": {
          "bdata": "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",
          "dtype": "f8"
         },
         "y": {
          "bdata": "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",
          "dtype": "f8"
         }
        },
        {
         "mode": "lines",
         "name": "ROI.07",
         "type": "scatter",
         "x": {
          "bdata": "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",
          "dtype": "f8"
         },
         "y": {
          "bdata": "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",
          "dtype": "f8"
         }
        },
        {
         "mode": "lines",
         "name": "ROI.08",
         "type": "scatter",
         "x": {
          "bdata": "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",
          "dtype": "f8"
         },
         "y": {
          "bdata": "v9+0Z3aq2T9tNvCTqXLZP7RzXlqo49k/NbT0irvO2T/Xt2GCEjjZPxQjLnVbINk/UznTcHv92D/StQjAxYvZP0pOqcTTDNk/quTwBpXh2D/4YbBwZE7ZPwO1fqVArdk/g41wTR8q2T9ao9C7/BfZP33OSwt1BNk/AAAAAAAA+H8AAAAAAAD4fwAAAAAAAPh/AAAAAAAA+H8AAAAAAAD4fwAAAAAAAPh/AAAAAAAA+H8AAAAAAAD4fwAAAAAAAPh/AAAAAAAA+H8AAAAAAAD4fwAAAAAAAPh/AAAAAAAA+H8AAAAAAAD4fwAAAAAAAPh/AAAAAAAA+H8AAAAAAAD4fwAAAAAAAPh/AAAAAAAA+H8AAAAAAAD4fwAAAAAAAPh/AAAAAAAA+H8AAAAAAAD4fwAAAAAAAPh/AAAAAAAA+H/mqTe/O3G7PxD0F9BfQL0/qkLv8l9Xvj+lQJYwE6u+P1g+PW7G/r4/1+QeZcGrvz+QjijG0NK/P/9v8WJROsA/ij2zU0Egvz/L704csELAP5hvrNUOS8A/AvEdxHcQwD95RopI4wrAP0+YidX3m8A/hxqF3uU/wD/qGHGp24LAPwhCkzYHw8A/le5/dOh0wD8IQpM2B8PAP5NtUxPCnsA/bcGrYiPcwD+M6s3vThzBPyTqiGIMLcE/dUQxhpZewD+xlnWg7d7AP3uVpvglEcE/8+oSfZELwT+qE/B8elzBPwG/DROUQME/XWyEa/rQwD/IZ41ZHonBP2i/UqDWL8E/nD/15ncnwT9V6f5Hh07BP79qcDbwE8E/nD/15ncnwT8Bvw0TlEDBP3uVpvglEcE/xeZg+PeywT/aPeGxbWrBP6Q8EgqmnME/cz2cJCt7wT+U5+oSfZHBPy3npYU6osE/sI/gPoL7wT+yEA2gqNHBP02R9HOMuME/KmZ5JBTMwT/u6Lm6RF/BPxeQJczE6sE/rQ603Vslwj/aPeGxbWrBP+GOViT9HMI/j+WRUDDlwT9Z5MKoaBfCPyjlTMPt9cE/O7ugGz3XwT82uUdZ8CrCP1nkwqhoF8I/Rg5vUBk2wj82uUdZ8CrCP0sQyBJm4sE/I+PzAKFJwj/JtqkJYY/CPwS60XN1CcI/+7Uf79uwwj9nuL0+a0zCPyBix596c8I/Mzgb+MlUwj+TtdphmcHCP8m2qQlhj8I/ljYHw7+Xwj9itmR8HqDCP/u1H+/bsMI/cguMc0erwj+0XylQ69fCP/g084212sI/CwtH5gS8wj8cYG7dLcfCPz+L6Syms8I/cguMc0erwj8JihqF3uXCP+3hJFnZe8I/oYnV95v2wj9K3rdhghLDPy42wjV9qMI/cIpfEiHVwj9K3rdhghLDP4Xh38uWjMI/cIpfEiHVwj8EiMHCkTnDP6GJ1feb9sI/cIpfEiHVwj+vXdCNnivDP8IzJObtDMM/xbRQRxTjwj9yC4xzR6vCP9eKpJ9jxMI/wjMk5u0Mwz8EiMHCkTnDP58IqZZ1IMM/kTSuAHPrwj/2s8YsjwTDP2uIBlDUKMM/DwYLR+aEwz/j3XLUPyPDP86G8hrKa8M/wLL3hMc2wz9bM99Yqx3DP69d0I2eK8M/JTIQseNPwz/LMEEJHILDP9AHH3zwQcM/bgkzsfr+wj/zMprLaC7DP97bGRLzdsM/jDJVPiY/wz/QBx988EHDP2uIBlDUKMM/WzPfWKsdwz8PBgtH5oTDP0XcXp81ZsM/xi7oRs/Vwz+vXdCNnivDP86G8hrKa8M/l7CewnqKwz+9McsjoWDDPzqJkGpZB8M/1Ql4Pj3uwj8stZXUVtLCPyy1ldRW0sI/LLWV1FbSwj/VCXg+Pe7CPy42wjV9qMI/fN0tR/0zwz983S1H/TPDP/g084212sI/fN0tR/0zwz8Z30F8B/HCP4DfhglK4MI/g2CzanC2wj9NX+TCqOjCP6GJ1feb9sI/ljYHw7+Xwj/VCXg+Pe7CP/azxiyPBMM/dYy41G2Bwj/9NkxQAofCP+jfy5aMz8I/+7Uf79uwwj8LC0fmBLzCPx7hmj5UncI/VOJp5htrwj8zOBv4yVTCP+GOViT9HMI/vmPb1IQwwj++Y9vUhDDCP4rjOI7jOMI/Rg5vUBk2wj8aEVIt68DBP4/lkVAw5cE/kma+sVa7wT8iaVwB5lbBP1hqK6mtJME/65IIqZZ1wT+6aBd0o2fBP7cSZmL1fcE/iWmhjihGwT/oEdxHcJ/BP6e9PmvMcsE/",
          "dtype": "f8"
         }
        },
        {
         "mode": "lines",
         "name": "ROI.09",
         "type": "scatter",
         "x": {
          "bdata": "AAAAAAAAAABI4XoUrkfRPx+F61G4HuE/RIts5/up6T/fT42XbhLxP/LSTWIQWPU/mpmZmZmZ+T9CYOXQItv9P3WTGARWDgFAkxgEVg4tA0AdWmQ7308FQHE9CtejcAdAxSCwcmiRCUAZBFYOLbILQG3n+6nx0g1A9ihcj8L1D0DVeOkmMQgRQC/dJAaBFRJAiUFg5dAiE0DjpZvEIDAUQD0K16NwPRVAmG4Sg8BKFkDy0k1iEFgXQEw3iUFgZRhAppvEILByGUAAAAAAAIAaQFpkO99PjRtAtMh2vp+aHEAOLbKd76cdQGiR7Xw/tR5Aw/UoXI/CH0AOLbKd72cgQDvfT42X7iBAaJHtfD91IUCWQ4ts5/shQMP1KFyPgiJA8KfGSzcJI0AdWmQ7348jQEoMAiuHFiRAd76fGi+dJEC+nxov3SQlQDEIrBxaJCdAvp8aL90kKUC+nxov3SQrQL6fGi/dJC1Avp8aL90kL0DfT42XbpIwQBkEVg4tkjFAGQRWDi2SMkDfT42XbpIzQN9PjZdukjRAGQRWDi2SNUDfT42XbpI2QN9PjZdukjdAGQRWDi2SOEAZBFYOLZI5QBkEVg4tkjpA30+Nl26SO0AZBFYOLZI8QBkEVg4tkj1A30+Nl26SPkAZBFYOLZI/QAwCK4cWSUBA8KfGSzfJQEDwp8ZLN0lBQPCnxks3yUFADAIrhxZJQkApXI/C9chCQClcj8L1SENAKVyPwvXIQ0AMAiuHFklEQAwCK4cWyURAKVyPwvVIRUApXI/C9chFQAwCK4cWSUZADAIrhxbJRkApXI/C9UhHQClcj8L1yEdADAIrhxZJSEAMAiuHFslIQClcj8L1SElAKVyPwvXISUApXI/C9UhKQAwCK4cWyUpADAIrhxZJS0AMAiuHFslLQAwCK4cWSUxAKVyPwvXITEApXI/C9UhNQAwCK4cWyU1ADAIrhxZJTkApXI/C9chOQClcj8L1SE9AKVyPwvXIT0AUrkfheiRQQBSuR+F6ZFBAFK5H4XqkUEAUrkfheuRQQBSuR+F6JFFAFK5H4XpkUUAGgZVDi6RRQBSuR+F65FFAFK5H4XokUkAUrkfhemRSQBSuR+F6pFJABoGVQ4vkUkAUrkfheiRTQBSuR+F6ZFNAFK5H4XqkU0AUrkfheuRTQBSuR+F6JFRAI9v5fmpkVEAj2/l+aqRUQCPb+X5q5FRAI9v5fmokVUAj2/l+amRVQBSuR+F6pFVAFK5H4XrkVUAj2/l+aiRWQCPb+X5qZFZAI9v5fmqkVkAj2/l+auRWQCPb+X5qJFdAI9v5fmpkV0AUrkfheqRXQCPb+X5q5FdAI9v5fmokWEAj2/l+amRYQBSuR+F6pFhAI9v5fmrkWEAj2/l+aiRZQCPb+X5qZFlAI9v5fmqkWUAj2/l+auRZQCPb+X5qJFpAI9v5fmpkWkAj2/l+aqRaQCPb+X5q5FpAI9v5fmokW0Aj2/l+amRbQCPb+X5qpFtAI9v5fmrkW0Aj2/l+aiRcQCPb+X5qZFxAI9v5fmqkXEAj2/l+auRcQCPb+X5qJF1AI9v5fmpkXUAj2/l+aqRdQCPb+X5q5F1AI9v5fmokXkAj2/l+amReQCPb+X5qpF5AI9v5fmrkXkAj2/l+aiRfQCPb+X5qZF9AI9v5fmqkX0AxCKwcWuRfQKAaL90kEmBAGQRWDi0yYEAZBFYOLVJgQBkEVg4tcmBAGQRWDi2SYECgGi/dJLJgQBkEVg4t0mBAGQRWDi3yYEAZBFYOLRJhQBkEVg4tMmFAGQRWDi1SYUAZBFYOLXJhQBkEVg4tkmFAGQRWDi2yYUAZBFYOLdJhQBkEVg4t8mFAoBov3SQSYkAZBFYOLTJiQBkEVg4tUmJAGQRWDi1yYkAZBFYOLZJiQKAaL90ksmJAoBov3STSYkAZBFYOLfJiQBkEVg4tEmNAGQRWDi0yY0CgGi/dJFJjQKAaL90kcmNAGQRWDi2SY0AZBFYOLbJjQBkEVg4t0mNAGQRWDi3yY0AZBFYOLRJkQKAaL90kMmRAoBov3SRSZECgGi/dJHJkQKAaL90kkmRAGQRWDi2yZECgGi/dJNJkQKAaL90k8mRAGQRWDi0SZUAZBFYOLTJlQKAaL90kUmVAoBov3SRyZUCgGi/dJJJlQCcxCKwcsmVAJzEIrBzSZUCgGi/dJPJlQKAaL90kEmZAoBov3SQyZkAnMQisHFJmQCcxCKwccmZA",
          "dtype": "f8"
         },
         "y": {
          "bdata": "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",
          "dtype": "f8"
         }
        },
        {
         "mode": "lines",
         "name": "ROI.10",
         "type": "scatter",
         "x": {
          "bdata": "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",
          "dtype": "f8"
         },
         "y": {
          "bdata": "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",
          "dtype": "f8"
         }
        },
        {
         "mode": "lines",
         "name": "ROI.11",
         "type": "scatter",
         "x": {
          "bdata": "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",
          "dtype": "f8"
         },
         "y": {
          "bdata": "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",
          "dtype": "f8"
         }
        },
        {
         "mode": "lines",
         "name": "ROI.12",
         "type": "scatter",
         "x": {
          "bdata": "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",
          "dtype": "f8"
         },
         "y": {
          "bdata": "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",
          "dtype": "f8"
         }
        },
        {
         "mode": "lines",
         "name": "ROI.13",
         "type": "scatter",
         "x": {
          "bdata": "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",
          "dtype": "f8"
         },
         "y": {
          "bdata": "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",
          "dtype": "f8"
         }
        }
       ],
       "layout": {
        "legend": {
         "title": {
          "text": "Legend"
         }
        },
        "template": {
         "data": {
          "bar": [
           {
            "error_x": {
             "color": "#2a3f5f"
            },
            "error_y": {
             "color": "#2a3f5f"
            },
            "marker": {
             "line": {
              "color": "white",
              "width": 0.5
             },
             "pattern": {
              "fillmode": "overlay",
              "size": 10,
              "solidity": 0.2
             }
            },
            "type": "bar"
           }
          ],
          "barpolar": [
           {
            "marker": {
             "line": {
              "color": "white",
              "width": 0.5
             },
             "pattern": {
              "fillmode": "overlay",
              "size": 10,
              "solidity": 0.2
             }
            },
            "type": "barpolar"
           }
          ],
          "carpet": [
           {
            "aaxis": {
             "endlinecolor": "#2a3f5f",
             "gridcolor": "#C8D4E3",
             "linecolor": "#C8D4E3",
             "minorgridcolor": "#C8D4E3",
             "startlinecolor": "#2a3f5f"
            },
            "baxis": {
             "endlinecolor": "#2a3f5f",
             "gridcolor": "#C8D4E3",
             "linecolor": "#C8D4E3",
             "minorgridcolor": "#C8D4E3",
             "startlinecolor": "#2a3f5f"
            },
            "type": "carpet"
           }
          ],
          "choropleth": [
           {
            "colorbar": {
             "outlinewidth": 0,
             "ticks": ""
            },
            "type": "choropleth"
           }
          ],
          "contour": [
           {
            "colorbar": {
             "outlinewidth": 0,
             "ticks": ""
            },
            "colorscale": [
             [
              0,
              "#0d0887"
             ],
             [
              0.1111111111111111,
              "#46039f"
             ],
             [
              0.2222222222222222,
              "#7201a8"
             ],
             [
              0.3333333333333333,
              "#9c179e"
             ],
             [
              0.4444444444444444,
              "#bd3786"
             ],
             [
              0.5555555555555556,
              "#d8576b"
             ],
             [
              0.6666666666666666,
              "#ed7953"
             ],
             [
              0.7777777777777778,
              "#fb9f3a"
             ],
             [
              0.8888888888888888,
              "#fdca26"
             ],
             [
              1,
              "#f0f921"
             ]
            ],
            "type": "contour"
           }
          ],
          "contourcarpet": [
           {
            "colorbar": {
             "outlinewidth": 0,
             "ticks": ""
            },
            "type": "contourcarpet"
           }
          ],
          "heatmap": [
           {
            "colorbar": {
             "outlinewidth": 0,
             "ticks": ""
            },
            "colorscale": [
             [
              0,
              "#0d0887"
             ],
             [
              0.1111111111111111,
              "#46039f"
             ],
             [
              0.2222222222222222,
              "#7201a8"
             ],
             [
              0.3333333333333333,
              "#9c179e"
             ],
             [
              0.4444444444444444,
              "#bd3786"
             ],
             [
              0.5555555555555556,
              "#d8576b"
             ],
             [
              0.6666666666666666,
              "#ed7953"
             ],
             [
              0.7777777777777778,
              "#fb9f3a"
             ],
             [
              0.8888888888888888,
              "#fdca26"
             ],
             [
              1,
              "#f0f921"
             ]
            ],
            "type": "heatmap"
           }
          ],
          "histogram": [
           {
            "marker": {
             "pattern": {
              "fillmode": "overlay",
              "size": 10,
              "solidity": 0.2
             }
            },
            "type": "histogram"
           }
          ],
          "histogram2d": [
           {
            "colorbar": {
             "outlinewidth": 0,
             "ticks": ""
            },
            "colorscale": [
             [
              0,
              "#0d0887"
             ],
             [
              0.1111111111111111,
              "#46039f"
             ],
             [
              0.2222222222222222,
              "#7201a8"
             ],
             [
              0.3333333333333333,
              "#9c179e"
             ],
             [
              0.4444444444444444,
              "#bd3786"
             ],
             [
              0.5555555555555556,
              "#d8576b"
             ],
             [
              0.6666666666666666,
              "#ed7953"
             ],
             [
              0.7777777777777778,
              "#fb9f3a"
             ],
             [
              0.8888888888888888,
              "#fdca26"
             ],
             [
              1,
              "#f0f921"
             ]
            ],
            "type": "histogram2d"
           }
          ],
          "histogram2dcontour": [
           {
            "colorbar": {
             "outlinewidth": 0,
             "ticks": ""
            },
            "colorscale": [
             [
              0,
              "#0d0887"
             ],
             [
              0.1111111111111111,
              "#46039f"
             ],
             [
              0.2222222222222222,
              "#7201a8"
             ],
             [
              0.3333333333333333,
              "#9c179e"
             ],
             [
              0.4444444444444444,
              "#bd3786"
             ],
             [
              0.5555555555555556,
              "#d8576b"
             ],
             [
              0.6666666666666666,
              "#ed7953"
             ],
             [
              0.7777777777777778,
              "#fb9f3a"
             ],
             [
              0.8888888888888888,
              "#fdca26"
             ],
             [
              1,
              "#f0f921"
             ]
            ],
            "type": "histogram2dcontour"
           }
          ],
          "mesh3d": [
           {
            "colorbar": {
             "outlinewidth": 0,
             "ticks": ""
            },
            "type": "mesh3d"
           }
          ],
          "parcoords": [
           {
            "line": {
             "colorbar": {
              "outlinewidth": 0,
              "ticks": ""
             }
            },
            "type": "parcoords"
           }
          ],
          "pie": [
           {
            "automargin": true,
            "type": "pie"
           }
          ],
          "scatter": [
           {
            "fillpattern": {
             "fillmode": "overlay",
             "size": 10,
             "solidity": 0.2
            },
            "type": "scatter"
           }
          ],
          "scatter3d": [
           {
            "line": {
             "colorbar": {
              "outlinewidth": 0,
              "ticks": ""
             }
            },
            "marker": {
             "colorbar": {
              "outlinewidth": 0,
              "ticks": ""
             }
            },
            "type": "scatter3d"
           }
          ],
          "scattercarpet": [
           {
            "marker": {
             "colorbar": {
              "outlinewidth": 0,
              "ticks": ""
             }
            },
            "type": "scattercarpet"
           }
          ],
          "scattergeo": [
           {
            "marker": {
             "colorbar": {
              "outlinewidth": 0,
              "ticks": ""
             }
            },
            "type": "scattergeo"
           }
          ],
          "scattergl": [
           {
            "marker": {
             "colorbar": {
              "outlinewidth": 0,
              "ticks": ""
             }
            },
            "type": "scattergl"
           }
          ],
          "scattermap": [
           {
            "marker": {
             "colorbar": {
              "outlinewidth": 0,
              "ticks": ""
             }
            },
            "type": "scattermap"
           }
          ],
          "scattermapbox": [
           {
            "marker": {
             "colorbar": {
              "outlinewidth": 0,
              "ticks": ""
             }
            },
            "type": "scattermapbox"
           }
          ],
          "scatterpolar": [
           {
            "marker": {
             "colorbar": {
              "outlinewidth": 0,
              "ticks": ""
             }
            },
            "type": "scatterpolar"
           }
          ],
          "scatterpolargl": [
           {
            "marker": {
             "colorbar": {
              "outlinewidth": 0,
              "ticks": ""
             }
            },
            "type": "scatterpolargl"
           }
          ],
          "scatterternary": [
           {
            "marker": {
             "colorbar": {
              "outlinewidth": 0,
              "ticks": ""
             }
            },
            "type": "scatterternary"
           }
          ],
          "surface": [
           {
            "colorbar": {
             "outlinewidth": 0,
             "ticks": ""
            },
            "colorscale": [
             [
              0,
              "#0d0887"
             ],
             [
              0.1111111111111111,
              "#46039f"
             ],
             [
              0.2222222222222222,
              "#7201a8"
             ],
             [
              0.3333333333333333,
              "#9c179e"
             ],
             [
              0.4444444444444444,
              "#bd3786"
             ],
             [
              0.5555555555555556,
              "#d8576b"
             ],
             [
              0.6666666666666666,
              "#ed7953"
             ],
             [
              0.7777777777777778,
              "#fb9f3a"
             ],
             [
              0.8888888888888888,
              "#fdca26"
             ],
             [
              1,
              "#f0f921"
             ]
            ],
            "type": "surface"
           }
          ],
          "table": [
           {
            "cells": {
             "fill": {
              "color": "#EBF0F8"
             },
             "line": {
              "color": "white"
             }
            },
            "header": {
             "fill": {
              "color": "#C8D4E3"
             },
             "line": {
              "color": "white"
             }
            },
            "type": "table"
           }
          ]
         },
         "layout": {
          "annotationdefaults": {
           "arrowcolor": "#2a3f5f",
           "arrowhead": 0,
           "arrowwidth": 1
          },
          "autotypenumbers": "strict",
          "coloraxis": {
           "colorbar": {
            "outlinewidth": 0,
            "ticks": ""
           }
          },
          "colorscale": {
           "diverging": [
            [
             0,
             "#8e0152"
            ],
            [
             0.1,
             "#c51b7d"
            ],
            [
             0.2,
             "#de77ae"
            ],
            [
             0.3,
             "#f1b6da"
            ],
            [
             0.4,
             "#fde0ef"
            ],
            [
             0.5,
             "#f7f7f7"
            ],
            [
             0.6,
             "#e6f5d0"
            ],
            [
             0.7,
             "#b8e186"
            ],
            [
             0.8,
             "#7fbc41"
            ],
            [
             0.9,
             "#4d9221"
            ],
            [
             1,
             "#276419"
            ]
           ],
           "sequential": [
            [
             0,
             "#0d0887"
            ],
            [
             0.1111111111111111,
             "#46039f"
            ],
            [
             0.2222222222222222,
             "#7201a8"
            ],
            [
             0.3333333333333333,
             "#9c179e"
            ],
            [
             0.4444444444444444,
             "#bd3786"
            ],
            [
             0.5555555555555556,
             "#d8576b"
            ],
            [
             0.6666666666666666,
             "#ed7953"
            ],
            [
             0.7777777777777778,
             "#fb9f3a"
            ],
            [
             0.8888888888888888,
             "#fdca26"
            ],
            [
             1,
             "#f0f921"
            ]
           ],
           "sequentialminus": [
            [
             0,
             "#0d0887"
            ],
            [
             0.1111111111111111,
             "#46039f"
            ],
            [
             0.2222222222222222,
             "#7201a8"
            ],
            [
             0.3333333333333333,
             "#9c179e"
            ],
            [
             0.4444444444444444,
             "#bd3786"
            ],
            [
             0.5555555555555556,
             "#d8576b"
            ],
            [
             0.6666666666666666,
             "#ed7953"
            ],
            [
             0.7777777777777778,
             "#fb9f3a"
            ],
            [
             0.8888888888888888,
             "#fdca26"
            ],
            [
             1,
             "#f0f921"
            ]
           ]
          },
          "colorway": [
           "#636efa",
           "#EF553B",
           "#00cc96",
           "#ab63fa",
           "#FFA15A",
           "#19d3f3",
           "#FF6692",
           "#B6E880",
           "#FF97FF",
           "#FECB52"
          ],
          "font": {
           "color": "#2a3f5f"
          },
          "geo": {
           "bgcolor": "white",
           "lakecolor": "white",
           "landcolor": "white",
           "showlakes": true,
           "showland": true,
           "subunitcolor": "#C8D4E3"
          },
          "hoverlabel": {
           "align": "left"
          },
          "hovermode": "closest",
          "mapbox": {
           "style": "light"
          },
          "paper_bgcolor": "white",
          "plot_bgcolor": "white",
          "polar": {
           "angularaxis": {
            "gridcolor": "#EBF0F8",
            "linecolor": "#EBF0F8",
            "ticks": ""
           },
           "bgcolor": "white",
           "radialaxis": {
            "gridcolor": "#EBF0F8",
            "linecolor": "#EBF0F8",
            "ticks": ""
           }
          },
          "scene": {
           "xaxis": {
            "backgroundcolor": "white",
            "gridcolor": "#DFE8F3",
            "gridwidth": 2,
            "linecolor": "#EBF0F8",
            "showbackground": true,
            "ticks": "",
            "zerolinecolor": "#EBF0F8"
           },
           "yaxis": {
            "backgroundcolor": "white",
            "gridcolor": "#DFE8F3",
            "gridwidth": 2,
            "linecolor": "#EBF0F8",
            "showbackground": true,
            "ticks": "",
            "zerolinecolor": "#EBF0F8"
           },
           "zaxis": {
            "backgroundcolor": "white",
            "gridcolor": "#DFE8F3",
            "gridwidth": 2,
            "linecolor": "#EBF0F8",
            "showbackground": true,
            "ticks": "",
            "zerolinecolor": "#EBF0F8"
           }
          },
          "shapedefaults": {
           "line": {
            "color": "#2a3f5f"
           }
          },
          "ternary": {
           "aaxis": {
            "gridcolor": "#DFE8F3",
            "linecolor": "#A2B1C6",
            "ticks": ""
           },
           "baxis": {
            "gridcolor": "#DFE8F3",
            "linecolor": "#A2B1C6",
            "ticks": ""
           },
           "bgcolor": "white",
           "caxis": {
            "gridcolor": "#DFE8F3",
            "linecolor": "#A2B1C6",
            "ticks": ""
           }
          },
          "title": {
           "x": 0.05
          },
          "xaxis": {
           "automargin": true,
           "gridcolor": "#EBF0F8",
           "linecolor": "#EBF0F8",
           "ticks": "",
           "title": {
            "standoff": 15
           },
           "zerolinecolor": "#EBF0F8",
           "zerolinewidth": 2
          },
          "yaxis": {
           "automargin": true,
           "gridcolor": "#EBF0F8",
           "linecolor": "#EBF0F8",
           "ticks": "",
           "title": {
            "standoff": 15
           },
           "zerolinecolor": "#EBF0F8",
           "zerolinewidth": 2
          }
         }
        },
        "title": {
         "text": "UL14 GFP FRAP01"
        },
        "xaxis": {
         "title": {
          "text": "Time (s)"
         }
        },
        "yaxis": {
         "title": {
          "text": "Intensity (a.u.)"
         }
        }
       }
      }
     },
     "metadata": {},
     "output_type": "display_data"
    }
   ],
   "source": [
    "# plot all csvs in the same folder\n",
    "\n",
    "for file in all_csvs:\n",
    "    frap_plot(file)"
   ]
  },
  {
   "cell_type": "code",
   "execution_count": null,
   "id": "30fa861c",
   "metadata": {},
   "outputs": [],
   "source": []
  }
 ],
 "metadata": {
  "kernelspec": {
   "display_name": "Python 3",
   "language": "python",
   "name": "python3"
  },
  "language_info": {
   "codemirror_mode": {
    "name": "ipython",
    "version": 3
   },
   "file_extension": ".py",
   "mimetype": "text/x-python",
   "name": "python",
   "nbconvert_exporter": "python",
   "pygments_lexer": "ipython3",
   "version": "3.12.7"
  }
 },
 "nbformat": 4,
 "nbformat_minor": 5
}
