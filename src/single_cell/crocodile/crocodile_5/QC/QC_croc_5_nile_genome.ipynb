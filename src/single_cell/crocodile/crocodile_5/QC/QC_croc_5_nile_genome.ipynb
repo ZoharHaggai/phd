{
 "cells": [
  {
   "cell_type": "markdown",
   "metadata": {},
   "source": [
    "The features.tsv file is not good so I can't use it for crocodile 5"
   ]
  },
  {
   "cell_type": "markdown",
   "metadata": {},
   "source": [
    "# QC pipeline on the Nile Crocodile genome\n",
    "Using h5ad files Dafna created and I will perform a QC pipeline to identify and remove low quality cells"
   ]
  },
  {
   "cell_type": "markdown",
   "metadata": {},
   "source": [
    "## Imports"
   ]
  },
  {
   "cell_type": "code",
   "execution_count": 1,
   "metadata": {},
   "outputs": [],
   "source": [
    "import numpy as np\n",
    "import scanpy as sc\n",
    "import pandas as pd\n",
    "import os\n",
    "import bbknn\n",
    "from pathlib import Path"
   ]
  },
  {
   "cell_type": "markdown",
   "metadata": {},
   "source": [
    "## Single cell settings"
   ]
  },
  {
   "cell_type": "code",
   "execution_count": 2,
   "metadata": {},
   "outputs": [
    {
     "name": "stderr",
     "output_type": "stream",
     "text": [
      "C:\\Users\\TzachiHNB2\\AppData\\Local\\Temp\\ipykernel_24396\\3661074169.py:2: FutureWarning: The specified parameters ('scanpy',) are no longer positional. Please specify them like `scanpy=80`\n",
      "  sc.settings.set_figure_params(80)\n"
     ]
    }
   ],
   "source": [
    "sc.settings.verbosity = 4\n",
    "sc.settings.set_figure_params(80)\n",
    "sc.settings._file_format_figs = 'pdf'\n",
    "sc.settings.savefigs = False\n",
    "use_first_n_samples = 0\n",
    "full_sparse = False"
   ]
  },
  {
   "cell_type": "markdown",
   "metadata": {},
   "source": [
    "## Basic QC workflow"
   ]
  },
  {
   "cell_type": "code",
   "execution_count": 3,
   "metadata": {},
   "outputs": [
    {
     "name": "stdout",
     "output_type": "stream",
     "text": [
      "    reading \\Code\\data\\single_cell\\animals\\crocodile\\crocodile_5\\control\\control_lps\\matrix.mtx.gz\n",
      "--> This might be very slow. Consider passing `cache=True`, which enables much faster reading from a cache file.\n",
      "Memory usage: current 0.33 GB, difference +0.33 GB\n",
      "(6222, 20530)\n",
      "    reading \\Code\\data\\single_cell\\animals\\crocodile\\crocodile_5\\control\\control_pic\\matrix.mtx.gz\n",
      "--> This might be very slow. Consider passing `cache=True`, which enables much faster reading from a cache file.\n",
      "Memory usage: current 0.40 GB, difference +0.07 GB\n",
      "(6214, 20530)\n"
     ]
    }
   ],
   "source": [
    "adatas = []\n",
    "data_names = ['control_lps','control_pic']\n",
    "main_path = '/Code/data/single_cell/animals/crocodile/crocodile_5/control/'\n",
    "paths =  ['\\\\control_lps','\\\\control_pic']\n",
    "for path in paths:\n",
    "    adata = sc.read_10x_mtx(main_path + path, var_names='gene_symbols', cache=False)  \n",
    "    sc.logging.print_memory_usage()\n",
    "    print(adata.shape)\n",
    "    adatas.append(adata)"
   ]
  },
  {
   "cell_type": "code",
   "execution_count": 4,
   "metadata": {},
   "outputs": [
    {
     "name": "stderr",
     "output_type": "stream",
     "text": [
      "c:\\Python\\Python310\\lib\\site-packages\\anndata\\_core\\anndata.py:1763: FutureWarning: The AnnData.concatenate method is deprecated in favour of the anndata.concat function. Please use anndata.concat instead.\n",
      "\n",
      "See the tutorial for concat at: https://anndata.readthedocs.io/en/latest/concatenation.html\n",
      "  warnings.warn(\n"
     ]
    },
    {
     "data": {
      "text/plain": [
       "AnnData object with n_obs × n_vars = 12436 × 20530\n",
       "    obs: 'treatment'\n",
       "    var: 'gene_ids', 'feature_types'"
      ]
     },
     "execution_count": 4,
     "metadata": {},
     "output_type": "execute_result"
    }
   ],
   "source": [
    "adata_control = adatas[0].concatenate(adatas[1], batch_categories=data_names, batch_key='treatment')\n",
    "\n",
    "adata_control"
   ]
  },
  {
   "cell_type": "code",
   "execution_count": 5,
   "metadata": {},
   "outputs": [
    {
     "data": {
      "text/html": [
       "<div>\n",
       "<style scoped>\n",
       "    .dataframe tbody tr th:only-of-type {\n",
       "        vertical-align: middle;\n",
       "    }\n",
       "\n",
       "    .dataframe tbody tr th {\n",
       "        vertical-align: top;\n",
       "    }\n",
       "\n",
       "    .dataframe thead th {\n",
       "        text-align: right;\n",
       "    }\n",
       "</style>\n",
       "<table border=\"1\" class=\"dataframe\">\n",
       "  <thead>\n",
       "    <tr style=\"text-align: right;\">\n",
       "      <th></th>\n",
       "      <th>treatment</th>\n",
       "    </tr>\n",
       "  </thead>\n",
       "  <tbody>\n",
       "    <tr>\n",
       "      <th>AAACCCACAATAGGGC-1-control_lps</th>\n",
       "      <td>control</td>\n",
       "    </tr>\n",
       "    <tr>\n",
       "      <th>AAACCCACATAATCGC-1-control_lps</th>\n",
       "      <td>control</td>\n",
       "    </tr>\n",
       "    <tr>\n",
       "      <th>AAACCCAGTGCCTGCA-1-control_lps</th>\n",
       "      <td>control</td>\n",
       "    </tr>\n",
       "    <tr>\n",
       "      <th>AAACCCATCACGACTA-1-control_lps</th>\n",
       "      <td>control</td>\n",
       "    </tr>\n",
       "    <tr>\n",
       "      <th>AAACCCATCAGGAACG-1-control_lps</th>\n",
       "      <td>control</td>\n",
       "    </tr>\n",
       "    <tr>\n",
       "      <th>...</th>\n",
       "      <td>...</td>\n",
       "    </tr>\n",
       "    <tr>\n",
       "      <th>TTTGTTGCAGCGAGTA-1-control_pic</th>\n",
       "      <td>control</td>\n",
       "    </tr>\n",
       "    <tr>\n",
       "      <th>TTTGTTGCATGTCAGT-1-control_pic</th>\n",
       "      <td>control</td>\n",
       "    </tr>\n",
       "    <tr>\n",
       "      <th>TTTGTTGGTTCCTAAG-1-control_pic</th>\n",
       "      <td>control</td>\n",
       "    </tr>\n",
       "    <tr>\n",
       "      <th>TTTGTTGTCCAAACCA-1-control_pic</th>\n",
       "      <td>control</td>\n",
       "    </tr>\n",
       "    <tr>\n",
       "      <th>TTTGTTGTCCGTGGCA-1-control_pic</th>\n",
       "      <td>control</td>\n",
       "    </tr>\n",
       "  </tbody>\n",
       "</table>\n",
       "<p>12436 rows × 1 columns</p>\n",
       "</div>"
      ],
      "text/plain": [
       "                               treatment\n",
       "AAACCCACAATAGGGC-1-control_lps   control\n",
       "AAACCCACATAATCGC-1-control_lps   control\n",
       "AAACCCAGTGCCTGCA-1-control_lps   control\n",
       "AAACCCATCACGACTA-1-control_lps   control\n",
       "AAACCCATCAGGAACG-1-control_lps   control\n",
       "...                                  ...\n",
       "TTTGTTGCAGCGAGTA-1-control_pic   control\n",
       "TTTGTTGCATGTCAGT-1-control_pic   control\n",
       "TTTGTTGGTTCCTAAG-1-control_pic   control\n",
       "TTTGTTGTCCAAACCA-1-control_pic   control\n",
       "TTTGTTGTCCGTGGCA-1-control_pic   control\n",
       "\n",
       "[12436 rows x 1 columns]"
      ]
     },
     "execution_count": 5,
     "metadata": {},
     "output_type": "execute_result"
    }
   ],
   "source": [
    "adata_control.obs['treatment'] = 'control'\n",
    "adata_control.obs"
   ]
  },
  {
   "cell_type": "code",
   "execution_count": 6,
   "metadata": {},
   "outputs": [
    {
     "data": {
      "text/html": [
       "<div>\n",
       "<style scoped>\n",
       "    .dataframe tbody tr th:only-of-type {\n",
       "        vertical-align: middle;\n",
       "    }\n",
       "\n",
       "    .dataframe tbody tr th {\n",
       "        vertical-align: top;\n",
       "    }\n",
       "\n",
       "    .dataframe thead th {\n",
       "        text-align: right;\n",
       "    }\n",
       "</style>\n",
       "<table border=\"1\" class=\"dataframe\">\n",
       "  <thead>\n",
       "    <tr style=\"text-align: right;\">\n",
       "      <th></th>\n",
       "      <th>gene_ids</th>\n",
       "      <th>feature_types</th>\n",
       "    </tr>\n",
       "  </thead>\n",
       "  <tbody>\n",
       "    <tr>\n",
       "      <th>TRINITY_DN903_c0_g1~~TRINITY_DN903_c0_g1_i1.p1</th>\n",
       "      <td>TRINITY_DN903_c0_g1~~TRINITY_DN903_c0_g1_i1.p1</td>\n",
       "      <td>Gene Expression</td>\n",
       "    </tr>\n",
       "    <tr>\n",
       "      <th>TRINITY_DN903_c0_g1~~TRINITY_DN903_c0_g1_i1.p3</th>\n",
       "      <td>TRINITY_DN903_c0_g1~~TRINITY_DN903_c0_g1_i1.p3</td>\n",
       "      <td>Gene Expression</td>\n",
       "    </tr>\n",
       "    <tr>\n",
       "      <th>TRINITY_DN849_c2_g2~~TRINITY_DN849_c2_g2_i1.p1</th>\n",
       "      <td>TRINITY_DN849_c2_g2~~TRINITY_DN849_c2_g2_i1.p1</td>\n",
       "      <td>Gene Expression</td>\n",
       "    </tr>\n",
       "    <tr>\n",
       "      <th>TRINITY_DN849_c2_g2~~TRINITY_DN849_c2_g2_i1.p2</th>\n",
       "      <td>TRINITY_DN849_c2_g2~~TRINITY_DN849_c2_g2_i1.p2</td>\n",
       "      <td>Gene Expression</td>\n",
       "    </tr>\n",
       "    <tr>\n",
       "      <th>TRINITY_DN684_c0_g2~~TRINITY_DN684_c0_g2_i1.p1</th>\n",
       "      <td>TRINITY_DN684_c0_g2~~TRINITY_DN684_c0_g2_i1.p1</td>\n",
       "      <td>Gene Expression</td>\n",
       "    </tr>\n",
       "    <tr>\n",
       "      <th>...</th>\n",
       "      <td>...</td>\n",
       "      <td>...</td>\n",
       "    </tr>\n",
       "    <tr>\n",
       "      <th>TRINITY_DN30_c0_g1~~TRINITY_DN30_c0_g1_i84.p9</th>\n",
       "      <td>TRINITY_DN30_c0_g1~~TRINITY_DN30_c0_g1_i84.p9</td>\n",
       "      <td>Gene Expression</td>\n",
       "    </tr>\n",
       "    <tr>\n",
       "      <th>TRINITY_DN2069_c0_g1~~TRINITY_DN2069_c0_g1_i90.p1</th>\n",
       "      <td>TRINITY_DN2069_c0_g1~~TRINITY_DN2069_c0_g1_i90.p1</td>\n",
       "      <td>Gene Expression</td>\n",
       "    </tr>\n",
       "    <tr>\n",
       "      <th>TRINITY_DN2069_c0_g1~~TRINITY_DN2069_c0_g1_i90.p2</th>\n",
       "      <td>TRINITY_DN2069_c0_g1~~TRINITY_DN2069_c0_g1_i90.p2</td>\n",
       "      <td>Gene Expression</td>\n",
       "    </tr>\n",
       "    <tr>\n",
       "      <th>TRINITY_DN1213_c0_g2~~TRINITY_DN1213_c0_g2_i110.p2</th>\n",
       "      <td>TRINITY_DN1213_c0_g2~~TRINITY_DN1213_c0_g2_i11...</td>\n",
       "      <td>Gene Expression</td>\n",
       "    </tr>\n",
       "    <tr>\n",
       "      <th>TRINITY_DN1213_c0_g2~~TRINITY_DN1213_c0_g2_i110.p3</th>\n",
       "      <td>TRINITY_DN1213_c0_g2~~TRINITY_DN1213_c0_g2_i11...</td>\n",
       "      <td>Gene Expression</td>\n",
       "    </tr>\n",
       "  </tbody>\n",
       "</table>\n",
       "<p>20530 rows × 2 columns</p>\n",
       "</div>"
      ],
      "text/plain": [
       "                                                                                             gene_ids  \\\n",
       "TRINITY_DN903_c0_g1~~TRINITY_DN903_c0_g1_i1.p1         TRINITY_DN903_c0_g1~~TRINITY_DN903_c0_g1_i1.p1   \n",
       "TRINITY_DN903_c0_g1~~TRINITY_DN903_c0_g1_i1.p3         TRINITY_DN903_c0_g1~~TRINITY_DN903_c0_g1_i1.p3   \n",
       "TRINITY_DN849_c2_g2~~TRINITY_DN849_c2_g2_i1.p1         TRINITY_DN849_c2_g2~~TRINITY_DN849_c2_g2_i1.p1   \n",
       "TRINITY_DN849_c2_g2~~TRINITY_DN849_c2_g2_i1.p2         TRINITY_DN849_c2_g2~~TRINITY_DN849_c2_g2_i1.p2   \n",
       "TRINITY_DN684_c0_g2~~TRINITY_DN684_c0_g2_i1.p1         TRINITY_DN684_c0_g2~~TRINITY_DN684_c0_g2_i1.p1   \n",
       "...                                                                                               ...   \n",
       "TRINITY_DN30_c0_g1~~TRINITY_DN30_c0_g1_i84.p9           TRINITY_DN30_c0_g1~~TRINITY_DN30_c0_g1_i84.p9   \n",
       "TRINITY_DN2069_c0_g1~~TRINITY_DN2069_c0_g1_i90.p1   TRINITY_DN2069_c0_g1~~TRINITY_DN2069_c0_g1_i90.p1   \n",
       "TRINITY_DN2069_c0_g1~~TRINITY_DN2069_c0_g1_i90.p2   TRINITY_DN2069_c0_g1~~TRINITY_DN2069_c0_g1_i90.p2   \n",
       "TRINITY_DN1213_c0_g2~~TRINITY_DN1213_c0_g2_i110.p2  TRINITY_DN1213_c0_g2~~TRINITY_DN1213_c0_g2_i11...   \n",
       "TRINITY_DN1213_c0_g2~~TRINITY_DN1213_c0_g2_i110.p3  TRINITY_DN1213_c0_g2~~TRINITY_DN1213_c0_g2_i11...   \n",
       "\n",
       "                                                      feature_types  \n",
       "TRINITY_DN903_c0_g1~~TRINITY_DN903_c0_g1_i1.p1      Gene Expression  \n",
       "TRINITY_DN903_c0_g1~~TRINITY_DN903_c0_g1_i1.p3      Gene Expression  \n",
       "TRINITY_DN849_c2_g2~~TRINITY_DN849_c2_g2_i1.p1      Gene Expression  \n",
       "TRINITY_DN849_c2_g2~~TRINITY_DN849_c2_g2_i1.p2      Gene Expression  \n",
       "TRINITY_DN684_c0_g2~~TRINITY_DN684_c0_g2_i1.p1      Gene Expression  \n",
       "...                                                             ...  \n",
       "TRINITY_DN30_c0_g1~~TRINITY_DN30_c0_g1_i84.p9       Gene Expression  \n",
       "TRINITY_DN2069_c0_g1~~TRINITY_DN2069_c0_g1_i90.p1   Gene Expression  \n",
       "TRINITY_DN2069_c0_g1~~TRINITY_DN2069_c0_g1_i90.p2   Gene Expression  \n",
       "TRINITY_DN1213_c0_g2~~TRINITY_DN1213_c0_g2_i110.p2  Gene Expression  \n",
       "TRINITY_DN1213_c0_g2~~TRINITY_DN1213_c0_g2_i110.p3  Gene Expression  \n",
       "\n",
       "[20530 rows x 2 columns]"
      ]
     },
     "execution_count": 6,
     "metadata": {},
     "output_type": "execute_result"
    }
   ],
   "source": [
    "adata_control.var"
   ]
  },
  {
   "cell_type": "code",
   "execution_count": null,
   "metadata": {},
   "outputs": [],
   "source": [
    "adata_control.obs.index = [x.split('-control')[0] for x in adata_control.obs.index]\n",
    "adata_control.obs.index"
   ]
  },
  {
   "cell_type": "code",
   "execution_count": null,
   "metadata": {},
   "outputs": [],
   "source": [
    "adatas = [adata_control]\n",
    "adata_control.obs_names_make_unique()"
   ]
  },
  {
   "cell_type": "code",
   "execution_count": null,
   "metadata": {},
   "outputs": [],
   "source": [
    "data_names = ['lps','pic']\n",
    "main_path = '/Code/data/single_cell/animals/crocodile/crocodile_5/'\n",
    "paths = ['\\\\lps','\\\\pic']\n",
    "for path in paths:\n",
    "    adata = sc.read_10x_mtx(main_path + path, var_names='gene_symbols', cache=False)\n",
    "    sc.logging.print_memory_usage()\n",
    "    print(adata.shape)\n",
    "    adatas.append(adata)"
   ]
  },
  {
   "cell_type": "code",
   "execution_count": null,
   "metadata": {},
   "outputs": [],
   "source": [
    "adata_all_treatments = adata_control.concatenate([adatas[1], adatas[2]], batch_key='treatment' , batch_categories = ['control', 'lps', 'pic'])\n",
    "adata_all_treatments"
   ]
  },
  {
   "cell_type": "code",
   "execution_count": null,
   "metadata": {},
   "outputs": [],
   "source": [
    "adata_all_treatments.obs['treatment'] = adata_all_treatments.obs['treatment'].map({'control': 'control','lps': 'lps', 'pic': 'pic'})"
   ]
  },
  {
   "cell_type": "code",
   "execution_count": null,
   "metadata": {},
   "outputs": [],
   "source": [
    "adata_all_treatments.obs"
   ]
  },
  {
   "cell_type": "code",
   "execution_count": null,
   "metadata": {},
   "outputs": [],
   "source": [
    "adata_all_treatments.var"
   ]
  },
  {
   "cell_type": "code",
   "execution_count": null,
   "metadata": {},
   "outputs": [],
   "source": [
    "genes = pd.read_csv('/Code/data/single_cell/animals/eggnog_croc_chic_komo_turt.csv')\n",
    "genes.dropna(subset = ['crocodile gene id'], inplace=True)\n",
    "\n",
    "genes_dict = dict(zip(genes['crocodile gene id'].astype('str'), genes.eggnog_name.astype('str'))) #change the column name to fit the animal\n",
    "\n",
    "dict_multi, dict_uni = {}, {}\n",
    "for d in genes_dict:\n",
    "    if len(d.split(',')) != 1:\n",
    "        dict_multi[d] = genes_dict[d]\n",
    "    else:\n",
    "        dict_uni[d] =  genes_dict[d]\n",
    "\n",
    "multi_result_dict = {}\n",
    "\n",
    "for key_str, value in dict_multi.items():\n",
    "    # Convert the string key to a set\n",
    "    key_set = set(key_str.strip(\"{}\").replace(\"'\", \"\").split(\", \"))\n",
    "\n",
    "    # Iterate through the elements in the set and create individual keys\n",
    "    for element in key_set:\n",
    "        multi_result_dict[element] = value\n",
    "\n",
    "genes_dict = {**dict_uni, **multi_result_dict}\n",
    "\n",
    "genes_dict"
   ]
  },
  {
   "cell_type": "code",
   "execution_count": null,
   "metadata": {},
   "outputs": [],
   "source": [
    "adata_all_treatments.obs"
   ]
  },
  {
   "cell_type": "code",
   "execution_count": null,
   "metadata": {},
   "outputs": [],
   "source": [
    "adata_all_treatments.var"
   ]
  },
  {
   "cell_type": "code",
   "execution_count": null,
   "metadata": {},
   "outputs": [],
   "source": [
    "# Get a Series of variable (gene) names\n",
    "var_names_series = pd.Series(adata_all_treatments.var_names)\n",
    "\n",
    "# Identify duplicate variable names\n",
    "duplicate_var_names = var_names_series[var_names_series.duplicated(keep='first')]\n",
    "\n",
    "# Iterate through duplicates and add suffixes to make them unique from the first occurrence\n",
    "for duplicate_name in duplicate_var_names:\n",
    "    count = 1\n",
    "    indices = var_names_series[var_names_series == duplicate_name].index\n",
    "    for idx in indices:\n",
    "        var_names_series[idx] = f'{duplicate_name}_{count}'\n",
    "        count += 1\n",
    "\n",
    "# Update the AnnData object with the unique variable names\n",
    "adata_all_treatments.var_names = var_names_series.values\n",
    "\n",
    "adata_all_treatments.var_names"
   ]
  },
  {
   "cell_type": "code",
   "execution_count": null,
   "metadata": {},
   "outputs": [],
   "source": [
    "sc.pl.highest_expr_genes(adata_all_treatments, n_top=20)"
   ]
  },
  {
   "cell_type": "code",
   "execution_count": null,
   "metadata": {},
   "outputs": [],
   "source": [
    "sc.pp.filter_cells(adata_all_treatments, min_genes=100) \n",
    "sc.pp.filter_genes(adata_all_treatments, min_cells=3)\n",
    "print(adata_all_treatments.shape)"
   ]
  },
  {
   "cell_type": "code",
   "execution_count": null,
   "metadata": {},
   "outputs": [],
   "source": [
    "dict_replace = {'COX1':'MT-COX1','COX2':'MT-COX2','COX3':'MT-COX3','ND1':'MT-ND1-1','ND1':'MT-ND1-2','ND2':'MT-ND2',\n",
    "                'ND3':'MT-ND3','ND4':'MT-ND4','ND5':'MT-ND5','ND6':'MT-ND6','ND4L-1':'MT-ND4L','ATP6':'MT-ATP6','ATP8':'MT-ATP8',\n",
    "                'CYTB':'MT-CYTB'}\n",
    "adata_all_treatments.var.rename(dict_replace, inplace=True)\n",
    "# ONLY MT-ATP6, MT-ND1, MT-ND4L"
   ]
  },
  {
   "cell_type": "code",
   "execution_count": null,
   "metadata": {},
   "outputs": [],
   "source": [
    "adata_all_treatments.var['MT'] = adata_all_treatments.var_names.str.startswith('MT-')  # annotate the group of mitochondrial genes as 'MT'\n",
    "sc.pp.calculate_qc_metrics(adata_all_treatments, qc_vars=['MT'], percent_top=None, log1p=False, inplace=True)"
   ]
  },
  {
   "cell_type": "code",
   "execution_count": null,
   "metadata": {},
   "outputs": [],
   "source": [
    "sc.pp.calculate_qc_metrics(adata_all_treatments, percent_top=None, log1p=False, inplace=True)"
   ]
  },
  {
   "cell_type": "code",
   "execution_count": null,
   "metadata": {},
   "outputs": [],
   "source": [
    "sc.pl.scatter(adata_all_treatments, x='total_counts', y='n_genes_by_counts', color='treatment')\n",
    "sc.pl.scatter(adata_all_treatments, x='total_counts', y='pct_counts_MT', color='treatment')\n",
    "sc.pl.scatter(adata_all_treatments, x='total_counts', y='n_genes', color='treatment', save=True)"
   ]
  },
  {
   "cell_type": "code",
   "execution_count": null,
   "metadata": {},
   "outputs": [],
   "source": [
    "adata_all_treatments = adata_all_treatments[adata_all_treatments.obs.pct_counts_MT < 20] \n",
    "adata_all_treatments = adata_all_treatments[adata_all_treatments.obs.total_counts < 5000, :] # If filtering outliers (<0.1% of cells)"
   ]
  },
  {
   "cell_type": "code",
   "execution_count": null,
   "metadata": {},
   "outputs": [],
   "source": [
    "import scrublet as scr\n",
    "\n",
    "def scrub(adatas, adata_all_treatments, adata_all_treatments_names):  # based on raw individual samples. \n",
    "    print('Before scrublet: ', adata.shape[0])\n",
    "    doub_index = []\n",
    "    barcodes = []\n",
    "    for data,name in zip(adatas, adata_all_treatments_names):\n",
    "        data.raw = data\n",
    "        sc.pp.normalize_total(data, target_sum=1e4)\n",
    "        sc.pp.log1p(data)\n",
    "        scrub = scr.Scrublet(data.raw.X)\n",
    "        data.obs['doublet_scores'], data.obs['predicted_doublets'] = scrub.scrub_doublets()\n",
    "        scrub.plot_histogram()\n",
    "        print('Doublets' + name + ' :', data.obs[data.obs['doublet_scores'] > 0.25].shape[0])\n",
    "        barcodes = data.obs[data.obs['doublet_scores'] < 0.25].index.to_list()\n",
    "        for barcode in barcodes:\n",
    "            doub_index.append(barcode + '-' + name)\n",
    "\n",
    "    adata_all_treatments = adata_all_treatments[adata_all_treatments.obs.index.isin(doub_index)]\n",
    "    print('After scrublet: ', adata_all_treatments.shape[0])\n",
    "    return adata_all_treatments"
   ]
  },
  {
   "cell_type": "code",
   "execution_count": null,
   "metadata": {},
   "outputs": [],
   "source": [
    "adata_all_treatments = scrub(adatas, adata_all_treatments, data_names)"
   ]
  },
  {
   "cell_type": "code",
   "execution_count": null,
   "metadata": {},
   "outputs": [],
   "source": [
    "cell_cycle_genes = [x.strip() for x in open(r'/Code/data/single_cell/animals/regev_lab_cell_cycle_genes.txt')]\n",
    "\n",
    "s_genes = cell_cycle_genes[:43]\n",
    "g2m_genes = cell_cycle_genes[43:]\n",
    "cell_cycle_genes = [x for x in cell_cycle_genes if x in adata.var_names]\n",
    "s_genes = [x for x in s_genes if x in adata.var_names]\n",
    "g2m_genes = [x for x in g2m_genes if x in adata.var_names]"
   ]
  },
  {
   "cell_type": "code",
   "execution_count": null,
   "metadata": {},
   "outputs": [],
   "source": [
    "adata.var_names"
   ]
  },
  {
   "cell_type": "code",
   "execution_count": null,
   "metadata": {},
   "outputs": [],
   "source": [
    "g2m_genes"
   ]
  },
  {
   "cell_type": "code",
   "execution_count": null,
   "metadata": {},
   "outputs": [],
   "source": [
    "matching_values = adata.var_names.isin(cell_cycle_genes)\n",
    "\n",
    "matching_values"
   ]
  },
  {
   "cell_type": "code",
   "execution_count": null,
   "metadata": {},
   "outputs": [],
   "source": [
    "cell_cycle_adata = adata.copy()\n",
    "\n",
    "sc.pp.normalize_per_cell(cell_cycle_adata, counts_per_cell_after=1e4)\n",
    "sc.pp.log1p(cell_cycle_adata)\n",
    "sc.pp.scale(cell_cycle_adata)\n",
    "sc.tl.score_genes_cell_cycle(cell_cycle_adata, s_genes=s_genes, g2m_genes=g2m_genes)\n",
    "adata_cc_genes = cell_cycle_adata[:, cell_cycle_genes].copy()\n",
    "sc.tl.pca(adata_cc_genes)\n",
    "sc.pl.pca_scatter(adata_cc_genes, color='phase', save=True)\n",
    "adata.obs['S_score'] = cell_cycle_adata.obs['S_score'].copy()\n",
    "adata.obs['G2M_score'] = cell_cycle_adata.obs['G2M_score'].copy()\n",
    "adata.obs['phase'] = cell_cycle_adata.obs['phase'].copy()"
   ]
  },
  {
   "cell_type": "code",
   "execution_count": null,
   "metadata": {},
   "outputs": [],
   "source": [
    "adata"
   ]
  },
  {
   "cell_type": "code",
   "execution_count": null,
   "metadata": {},
   "outputs": [],
   "source": [
    "adata.var"
   ]
  },
  {
   "cell_type": "code",
   "execution_count": null,
   "metadata": {},
   "outputs": [],
   "source": [
    "# adata.write(r'/Code/data/single_cell/animals/frog/frog_2/laevis/''frog_2_after_qc.h5ad')"
   ]
  }
 ],
 "metadata": {
  "kernelspec": {
   "display_name": "Python 3",
   "language": "python",
   "name": "python3"
  },
  "language_info": {
   "codemirror_mode": {
    "name": "ipython",
    "version": 3
   },
   "file_extension": ".py",
   "mimetype": "text/x-python",
   "name": "python",
   "nbconvert_exporter": "python",
   "pygments_lexer": "ipython3",
   "version": "3.10.11"
  }
 },
 "nbformat": 4,
 "nbformat_minor": 2
}
