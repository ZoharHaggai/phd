{
 "cells": [
  {
   "cell_type": "code",
   "execution_count": null,
   "metadata": {},
   "outputs": [],
   "source": [
    "# Imports\n",
    "\n",
    "import numpy as np\n",
    "import scanpy as sc\n",
    "import pandas as pd\n",
    "import os\n",
    "import bbknn\n",
    "from pathlib import Path\n",
    "# %%time"
   ]
  },
  {
   "cell_type": "code",
   "execution_count": null,
   "metadata": {},
   "outputs": [],
   "source": [
    "# Single Cell settings\n",
    "\n",
    "sc.settings.verbosity = 4\n",
    "sc.settings.set_figure_params(80)\n",
    "sc.settings._file_format_figs = 'pdf'\n",
    "sc.settings.savefigs = False\n",
    "use_first_n_samples = 0\n",
    "full_sparse = False"
   ]
  },
  {
   "cell_type": "markdown",
   "metadata": {},
   "source": [
    "# Basic QC workflow"
   ]
  },
  {
   "cell_type": "code",
   "execution_count": null,
   "metadata": {},
   "outputs": [],
   "source": [
    "adatas = []\n",
    "data_names = ['control','lf','lps','pic']\n",
    "main_path = '/Code/data/single_cell/animals/turtle/turtle_3/'\n",
    "paths = ['\\\\control','\\\\lf','\\\\lps','\\\\pic']           #...etc - Folders with matrix, features and barcodes gz files.\n",
    "for path in paths:\n",
    "    adata = sc.read_10x_mtx(main_path + path, var_names='gene_symbols',        # use gene symbols for the variable names (variables-axis index)\n",
    "        cache=False)  \n",
    "    sc.logging.print_memory_usage()\n",
    "    print(adata.shape)\n",
    "    adatas.append(adata)"
   ]
  },
  {
   "cell_type": "code",
   "execution_count": null,
   "metadata": {},
   "outputs": [],
   "source": [
    "# os.getcwd()"
   ]
  },
  {
   "cell_type": "code",
   "execution_count": null,
   "metadata": {},
   "outputs": [],
   "source": [
    "adata = adatas[0].concatenate(adatas[1:], batch_categories = data_names, batch_key='treatment')"
   ]
  },
  {
   "cell_type": "code",
   "execution_count": null,
   "metadata": {},
   "outputs": [],
   "source": [
    "genes = pd.read_csv('/Code/data/single_cell/animals/turtle/turtle_3/eggnog_combined.csv')\n",
    "genes.dropna(subset = ['turtle_3_gene_id'], inplace=True)\n",
    "\n",
    "genes_dict = dict(zip(genes['turtle_3_gene_id'].astype('str'), genes.eggnog_name.astype('str')))\n",
    "\n",
    "dict_multi, dict_uni = {}, {}\n",
    "for d in genes_dict:\n",
    "    if len(d.split(',')) != 1:\n",
    "        dict_multi[d] = genes_dict[d]\n",
    "    else:\n",
    "        dict_uni[d] =  genes_dict[d]\n",
    "\n",
    "multi_result_dict = {}\n",
    "\n",
    "for key_str, value in dict_multi.items():\n",
    "    # Convert the string key to a set\n",
    "    key_set = set(key_str.strip(\"{}\").replace(\"'\", \"\").split(\", \"))\n",
    "\n",
    "    # Iterate through the elements in the set and create individual keys\n",
    "    for element in key_set:\n",
    "        multi_result_dict[element] = value\n",
    "\n",
    "genes_dict = {**dict_uni, **multi_result_dict}\n",
    "\n",
    "genes_dict"
   ]
  },
  {
   "cell_type": "code",
   "execution_count": null,
   "metadata": {},
   "outputs": [],
   "source": [
    "# adata.var.set_index('gene_ids', inplace=True) \n",
    "# adata.var['gene_ids'] = adata.var.index\n",
    "\n",
    "# adata.var.drop(columns='feature_types', inplace=True)\n",
    "# adata.var.rename(genes_dict, inplace=True)"
   ]
  },
  {
   "cell_type": "code",
   "execution_count": null,
   "metadata": {},
   "outputs": [],
   "source": [
    "# This code identifies duplicate variable names, iterates through them, and adds suffixes to make them unique from the first occurrence.\n",
    "# Please make sure to replace adata with your actual AnnData object.\n",
    "\n",
    "# Keep in mind that Scanpy's functionality may evolve, so it's a good idea to check the documentation or release notes\n",
    "# for any updates related to making variable names unique starting from the first occurrence in more recent versions of Scanpy.\n",
    "\n",
    "# Get a Series of variable (gene) names\n",
    "var_names_series = pd.Series(adata.var_names)\n",
    "\n",
    "# Identify duplicate variable names\n",
    "duplicate_var_names = var_names_series[var_names_series.duplicated(keep='first')]\n",
    "\n",
    "# Iterate through duplicates and add suffixes to make them unique from the first occurrence\n",
    "for duplicate_name in duplicate_var_names:\n",
    "    count = 1\n",
    "    indices = var_names_series[var_names_series == duplicate_name].index\n",
    "    for idx in indices:\n",
    "        var_names_series[idx] = f'{duplicate_name}_{count}'\n",
    "        count += 1\n",
    "\n",
    "# Update the AnnData object with the unique variable names\n",
    "adata.var_names = var_names_series.values\n",
    "\n",
    "adata.var_names"
   ]
  },
  {
   "cell_type": "markdown",
   "metadata": {},
   "source": [
    "## Creating a raw adata annotated with the metadata created in downstream processing \n",
    "From the future regarding that script "
   ]
  },
  {
   "cell_type": "code",
   "execution_count": null,
   "metadata": {},
   "outputs": [],
   "source": [
    "# adata = sc.read(r\"C:\\Users\\TzachiHNB5\\Desktop\\reptiles\\turtle\\turtle_raw_with_metadata.h5ad\")"
   ]
  },
  {
   "cell_type": "code",
   "execution_count": null,
   "metadata": {},
   "outputs": [],
   "source": [
    "# adata.obs['inter_species_ann'] = adata.obs['ce']"
   ]
  },
  {
   "cell_type": "code",
   "execution_count": null,
   "metadata": {},
   "outputs": [],
   "source": [
    "# meta = pd.read_csv('turtle_meta.csv',index_col=0)\n",
    "# meta"
   ]
  },
  {
   "cell_type": "code",
   "execution_count": null,
   "metadata": {},
   "outputs": [],
   "source": [
    "# adata = adata[meta.index]"
   ]
  },
  {
   "cell_type": "code",
   "execution_count": null,
   "metadata": {},
   "outputs": [],
   "source": [
    "# adata"
   ]
  },
  {
   "cell_type": "code",
   "execution_count": null,
   "metadata": {},
   "outputs": [],
   "source": [
    "# adata.obs = meta"
   ]
  },
  {
   "cell_type": "code",
   "execution_count": null,
   "metadata": {},
   "outputs": [],
   "source": [
    "# adata.obs.drop(columns = ['leiden'],inplace=True)"
   ]
  },
  {
   "cell_type": "code",
   "execution_count": null,
   "metadata": {},
   "outputs": [],
   "source": [
    "# adata.write('turtle_raw_with_metadata.h5ad')"
   ]
  },
  {
   "cell_type": "code",
   "execution_count": null,
   "metadata": {},
   "outputs": [],
   "source": [
    "# pwd"
   ]
  },
  {
   "cell_type": "markdown",
   "metadata": {},
   "source": [
    "### Genes and cells filtration \n"
   ]
  },
  {
   "cell_type": "markdown",
   "metadata": {},
   "source": [
    "Show those genes that yield the highest fraction of counts in each single cell, across all cells."
   ]
  },
  {
   "cell_type": "code",
   "execution_count": null,
   "metadata": {},
   "outputs": [],
   "source": [
    "sc.pl.highest_expr_genes(adata, n_top=20)"
   ]
  },
  {
   "cell_type": "markdown",
   "metadata": {},
   "source": [
    "Basic filtering"
   ]
  },
  {
   "cell_type": "code",
   "execution_count": null,
   "metadata": {},
   "outputs": [],
   "source": [
    "adata_copy = adata.copy()"
   ]
  },
  {
   "cell_type": "code",
   "execution_count": null,
   "metadata": {},
   "outputs": [],
   "source": [
    "sc.pp.filter_cells(adata, min_genes=100) \n",
    "sc.pp.filter_genes(adata, min_cells=3)\n",
    "print(adata.shape) "
   ]
  },
  {
   "cell_type": "markdown",
   "metadata": {},
   "source": [
    "### Mitochondrial QC and general measures"
   ]
  },
  {
   "cell_type": "markdown",
   "metadata": {},
   "source": [
    "Check if genes are annotated as mt by running:\n",
    "- GENES= list(adata.var.index[adata.var.index.str.startswith('mt-'.upper())])\n",
    "- GENES\n",
    "\n",
    "In case the genes are not annotated as 'MT-'' (Like in bats), run:\n",
    "\n",
    "- dict_replace = {'COX1':'MT-COX1','COX2':'MT-COX2'...etc}\n",
    "- adata.var.rename(dict_replace, inplace = True)"
   ]
  },
  {
   "cell_type": "code",
   "execution_count": null,
   "metadata": {},
   "outputs": [],
   "source": [
    "dict_replace = {'COX1':'MT-COX1','COX2':'MT-COX2','COX3':'MT-COX3','ND1':'MT-ND1-1','ND1':'MT-ND1-2','ND2':'MT-ND2',\n",
    "                'ND3':'MT-ND3','ND4':'MT-ND4','ND5':'MT-ND5','ND6':'MT-ND6','ND4L-1':'MT-ND4L','ATP6':'MT-ATP6','ATP8':'MT-ATP8',\n",
    "                'CYTB':'MT-CYTB'}\n",
    "adata.var.rename(dict_replace, inplace = True)\n",
    "# ONLY MT-ATP6, MT-ND1, MT-ND4L"
   ]
  },
  {
   "cell_type": "code",
   "execution_count": null,
   "metadata": {},
   "outputs": [],
   "source": [
    "adata.var['MT'] = adata.var_names.str.startswith('MT-')  # annotate the group of mitochondrial genes as 'MT'\n",
    "sc.pp.calculate_qc_metrics(adata, qc_vars=['MT'], percent_top=None, log1p=False, inplace=True)"
   ]
  },
  {
   "cell_type": "markdown",
   "metadata": {},
   "source": [
    "A violin plot of some of the computed quality measures:\n",
    "\n",
    "- the number of genes expressed in the count matrix\n",
    "- the total counts per cell\n",
    "- the percentage of counts in mitochondrial genes"
   ]
  },
  {
   "cell_type": "code",
   "execution_count": null,
   "metadata": {},
   "outputs": [],
   "source": [
    "sc.pp.calculate_qc_metrics(adata, percent_top=None, log1p=False, inplace=True)"
   ]
  },
  {
   "cell_type": "code",
   "execution_count": null,
   "metadata": {},
   "outputs": [],
   "source": [
    "sc.pl.scatter(adata, x='total_counts', y='n_genes_by_counts', color='treatment')\n",
    "sc.pl.scatter(adata, x='total_counts', y='pct_counts_MT', color='treatment')\n",
    "sc.pl.scatter(adata, x='total_counts', y='n_genes', color='treatment')"
   ]
  },
  {
   "cell_type": "markdown",
   "metadata": {},
   "source": [
    "Actually do the filtering by slicing the AnnData object - By pct_counts_MT  and by total_counts /n_genes_by_counts or even n_genes"
   ]
  },
  {
   "cell_type": "code",
   "execution_count": null,
   "metadata": {},
   "outputs": [],
   "source": [
    "adata = adata[adata.obs.pct_counts_MT < 20] \n",
    "adata = adata[adata.obs.total_counts < 5000, :] # If filtering outliers (<0.1% of cells)"
   ]
  },
  {
   "cell_type": "markdown",
   "metadata": {},
   "source": [
    "### Doublet analysis and filtering"
   ]
  },
  {
   "cell_type": "code",
   "execution_count": null,
   "metadata": {
    "code_folding": [
     0
    ]
   },
   "outputs": [],
   "source": [
    "import scrublet as scr\n",
    "\n",
    "def scrub(adatas,adata,adata_names): # based on raw individual samples. \n",
    "    print('Before scrublet: ', adata.shape[0])\n",
    "    doub_index =[]\n",
    "    barcodes =[]\n",
    "    for data,name in zip(adatas,adata_names):\n",
    "        data.raw = data\n",
    "        sc.pp.normalize_total(data, target_sum=1e4)\n",
    "        sc.pp.log1p(data)\n",
    "        scrub = scr.Scrublet(data.raw.X)\n",
    "        data.obs['doublet_scores'], data.obs['predicted_doublets'] = scrub.scrub_doublets()\n",
    "        scrub.plot_histogram()\n",
    "        print('Doublets'+name +' :',data.obs[data.obs['doublet_scores'] >0.25].shape[0])\n",
    "        barcodes = data.obs[data.obs['doublet_scores'] <0.25].index.to_list()\n",
    "        for barcode in barcodes:\n",
    "            doub_index.append(barcode+'-'+name)\n",
    "    \n",
    "    adata = adata[adata.obs.index.isin(doub_index)]\n",
    "    print('After scrublet: ',adata.shape[0])\n",
    "    return adata"
   ]
  },
  {
   "cell_type": "code",
   "execution_count": null,
   "metadata": {},
   "outputs": [],
   "source": [
    "adata = scrub(adatas,adata,data_names)"
   ]
  },
  {
   "cell_type": "markdown",
   "metadata": {},
   "source": [
    "### Cell cycle scoring"
   ]
  },
  {
   "cell_type": "markdown",
   "metadata": {},
   "source": [
    "download Cell cycle txt: https://github.com/scverse/scanpy_usage/blob/master/180209_cell_cycle/data/regev_lab_cell_cycle_genes.txt"
   ]
  },
  {
   "cell_type": "code",
   "execution_count": null,
   "metadata": {},
   "outputs": [],
   "source": [
    "cell_cycle_genes = [x.strip() for x in open(r'/Code/data/single_cell/animals/turtle/turtle_3/regev_lab_cell_cycle_genes.txt')]\n",
    "\n",
    "s_genes = cell_cycle_genes[:43]\n",
    "g2m_genes = cell_cycle_genes[43:]\n",
    "cell_cycle_genes = [x for x in cell_cycle_genes if x in adata.var_names]\n",
    "s_genes = [x for x in s_genes if x in adata.var_names]\n",
    "g2m_genes = [x for x in g2m_genes if x in adata.var_names]"
   ]
  },
  {
   "cell_type": "code",
   "execution_count": null,
   "metadata": {},
   "outputs": [],
   "source": [
    "cell_cycle_adata = adata.copy()\n",
    "\n",
    "sc.pp.normalize_per_cell(cell_cycle_adata, counts_per_cell_after=1e4)\n",
    "sc.pp.log1p(cell_cycle_adata)\n",
    "sc.pp.scale(cell_cycle_adata)\n",
    "sc.tl.score_genes_cell_cycle(cell_cycle_adata, s_genes=s_genes, g2m_genes=g2m_genes)\n",
    "adata_cc_genes = cell_cycle_adata[:, cell_cycle_genes].copy()\n",
    "sc.tl.pca(adata_cc_genes)\n",
    "sc.pl.pca_scatter(adata_cc_genes, color='phase')\n",
    "adata.obs['S_score'] = cell_cycle_adata.obs['S_score'].copy()\n",
    "adata.obs['G2M_score'] = cell_cycle_adata.obs['G2M_score'].copy()\n",
    "adata.obs['phase'] = cell_cycle_adata.obs['phase'].copy()"
   ]
  },
  {
   "cell_type": "markdown",
   "metadata": {},
   "source": [
    "### Saving adata"
   ]
  },
  {
   "cell_type": "code",
   "execution_count": null,
   "metadata": {},
   "outputs": [],
   "source": [
    "adata.write(r'/Code/data/single_cell/animals/turtle/turtle_3/''turtle_after_qc.h5ad')"
   ]
  }
 ],
 "metadata": {
  "kernelspec": {
   "display_name": "Python 3",
   "language": "python",
   "name": "python3"
  },
  "language_info": {
   "codemirror_mode": {
    "name": "ipython",
    "version": 3
   },
   "file_extension": ".py",
   "mimetype": "text/x-python",
   "name": "python",
   "nbconvert_exporter": "python",
   "pygments_lexer": "ipython3",
   "version": "3.10.11"
  },
  "toc": {
   "base_numbering": 1,
   "nav_menu": {},
   "number_sections": true,
   "sideBar": true,
   "skip_h1_title": false,
   "title_cell": "Table of Contents",
   "title_sidebar": "Contents",
   "toc_cell": false,
   "toc_position": {
    "height": "calc(100% - 180px)",
    "left": "10px",
    "top": "150px",
    "width": "349.091px"
   },
   "toc_section_display": true,
   "toc_window_display": true
  }
 },
 "nbformat": 4,
 "nbformat_minor": 4
}
