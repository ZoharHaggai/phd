{
 "cells": [
  {
   "cell_type": "code",
   "execution_count": 1,
   "metadata": {},
   "outputs": [],
   "source": [
    "from pathlib import Path\n",
    "\n",
    "import pandas as pd\n",
    "import scanpy as sc\n",
    "import scrublet as scr\n",
    "\n",
    "sc.settings.verbosity = 4\n",
    "sc.settings.set_figure_params(80)\n",
    "sc.settings.file_format_figures = 'pdf'\n",
    "sc.settings.savefigs = False\n",
    "# use_first_n_samples = 0\n",
    "# full_sparse = False"
   ]
  },
  {
   "cell_type": "markdown",
   "metadata": {},
   "source": [
    "# Basic QC workflow"
   ]
  },
  {
   "cell_type": "code",
   "execution_count": 2,
   "metadata": {},
   "outputs": [
    {
     "name": "stdout",
     "output_type": "stream",
     "text": [
      "    reading ..\\..\\data\\single_cell\\animals\\komodo_achinoam\\LF\\matrix.mtx.gz\n",
      "... writing an h5ad cache file to speedup reading next time\n",
      "Memory usage: current 0.38 GB, difference +0.38 GB\n",
      "(6753, 18772)\n",
      "    reading ..\\..\\data\\single_cell\\animals\\komodo_achinoam\\control\\matrix.mtx.gz\n",
      "... writing an h5ad cache file to speedup reading next time\n",
      "Memory usage: current 0.53 GB, difference +0.15 GB\n",
      "(8618, 18772)\n",
      "    reading ..\\..\\data\\single_cell\\animals\\komodo_khalisi\\LF\\matrix.mtx.gz\n",
      "... writing an h5ad cache file to speedup reading next time\n",
      "Memory usage: current 0.75 GB, difference +0.21 GB\n",
      "(9021, 18772)\n",
      "    reading ..\\..\\data\\single_cell\\animals\\komodo_khalisi\\control\\matrix.mtx.gz\n",
      "... writing an h5ad cache file to speedup reading next time\n",
      "Memory usage: current 0.66 GB, difference -0.08 GB\n",
      "(4970, 18772)\n"
     ]
    }
   ],
   "source": [
    "adatas: list[sc.AnnData] = []\n",
    "data_names = ['achinoam_LF', 'achinoam_control', 'khalisi_LF', 'khalisi_control']\n",
    "\n",
    "# ...etc - Folders with matrix, features and barcodes gz files.\n",
    "base_path = Path('../../data/single_cell/animals/')\n",
    "paths = ['komodo_achinoam/LF',\n",
    "         'komodo_achinoam/control',\n",
    "         'komodo_khalisi/LF',\n",
    "         'komodo_khalisi/control']\n",
    "for path in paths:\n",
    "    adata = sc.read_10x_mtx(base_path / path,\n",
    "                            var_names='gene_symbols',  # use gene symbols for the variable names (variables-axis index)\n",
    "                            cache=True)\n",
    "    sc.logging.print_memory_usage()\n",
    "    print(adata.shape)\n",
    "    adatas.append(adata)\n",
    "\n",
    "# adata.obs\n",
    "# adata.var\n",
    "# adata.X\n"
   ]
  },
  {
   "cell_type": "code",
   "execution_count": 3,
   "metadata": {},
   "outputs": [
    {
     "name": "stderr",
     "output_type": "stream",
     "text": [
      "c:\\Python\\Python310\\lib\\site-packages\\anndata\\_core\\anndata.py:1763: FutureWarning: The AnnData.concatenate method is deprecated in favour of the anndata.concat function. Please use anndata.concat instead.\n",
      "\n",
      "See the tutorial for concat at: https://anndata.readthedocs.io/en/latest/concatenation.html\n",
      "  warnings.warn(\n"
     ]
    },
    {
     "data": {
      "text/plain": [
       "AnnData object with n_obs × n_vars = 29362 × 18772\n",
       "    obs: 'batch'\n",
       "    var: 'gene_ids', 'feature_types'"
      ]
     },
     "execution_count": 3,
     "metadata": {},
     "output_type": "execute_result"
    }
   ],
   "source": [
    "adata = adatas[0].concatenate(adatas[1:], batch_categories=data_names)\n",
    "adata"
   ]
  },
  {
   "cell_type": "code",
   "execution_count": 4,
   "metadata": {},
   "outputs": [
    {
     "ename": "AttributeError",
     "evalue": "'tuple' object has no attribute 'split'",
     "output_type": "error",
     "traceback": [
      "\u001b[1;31m---------------------------------------------------------------------------\u001b[0m",
      "\u001b[1;31mAttributeError\u001b[0m                            Traceback (most recent call last)",
      "Cell \u001b[1;32mIn[4], line 12\u001b[0m\n\u001b[0;32m     10\u001b[0m dict_uni \u001b[39m=\u001b[39m {}\n\u001b[0;32m     11\u001b[0m \u001b[39mfor\u001b[39;00m gene_id \u001b[39min\u001b[39;00m genes_d\u001b[39m.\u001b[39mitems():\n\u001b[1;32m---> 12\u001b[0m     \u001b[39mif\u001b[39;00m \u001b[39mlen\u001b[39m(gene_id\u001b[39m.\u001b[39;49msplit(\u001b[39m'\u001b[39m\u001b[39m,\u001b[39m\u001b[39m'\u001b[39m)) \u001b[39m!=\u001b[39m \u001b[39m1\u001b[39m:\n\u001b[0;32m     13\u001b[0m         dict_multi[gene_id] \u001b[39m=\u001b[39m genes_d[gene_id]\n\u001b[0;32m     14\u001b[0m     \u001b[39melse\u001b[39;00m:\n",
      "\u001b[1;31mAttributeError\u001b[0m: 'tuple' object has no attribute 'split'"
     ]
    }
   ],
   "source": [
    "genes = pd.read_csv('../../data/single_cell/eggnog_combined.csv')\n",
    "genes.dropna(subset=['komodo gene id'], inplace=True)\n",
    "\n",
    "genes_d = dict(\n",
    "    zip(genes['komodo gene id'].astype('str'),\n",
    "        genes['eggnog_name'].astype('str'))\n",
    ")\n",
    "\n",
    "dict_multi = {}\n",
    "dict_uni = {}\n",
    "for gene_id in genes_d.items():\n",
    "    if len(gene_id.split(',')) != 1:\n",
    "        dict_multi[gene_id] = genes_d[gene_id]\n",
    "    else:\n",
    "        dict_uni[gene_id] = genes_d[gene_id]\n",
    "\n",
    "multi_result_dict = {}\n",
    "\n",
    "for key_str, value in dict_multi.items():\n",
    "    # Convert the string key to a set\n",
    "    key_set = set(key_str.strip(\"{}\").replace(\"'\", \"\").split(\", \"))\n",
    "\n",
    "    # Iterate through the elements in the set and create individual keys\n",
    "    for element in key_set:\n",
    "        multi_result_dict[element] = value\n",
    "\n",
    "genes_dict = {**dict_uni, **multi_result_dict}\n"
   ]
  },
  {
   "cell_type": "code",
   "execution_count": null,
   "metadata": {},
   "outputs": [],
   "source": [
    "adata.var.set_index('gene_ids', inplace=True)\n",
    "adata.var['gene_ids'] = adata.var.index\n",
    "\n",
    "adata.var.drop(columns='feature_types', inplace=True)\n",
    "adata.var.rename(genes_dict, inplace=True)\n"
   ]
  },
  {
   "cell_type": "code",
   "execution_count": null,
   "metadata": {},
   "outputs": [],
   "source": [
    "adata.var_names_make_unique(join='-')\n"
   ]
  },
  {
   "cell_type": "markdown",
   "metadata": {},
   "source": [
    "### Genes and cells filtration \n"
   ]
  },
  {
   "cell_type": "markdown",
   "metadata": {},
   "source": [
    "Show those genes that yield the highest fraction of counts in each single cell, across all cells."
   ]
  },
  {
   "cell_type": "code",
   "execution_count": null,
   "metadata": {},
   "outputs": [],
   "source": [
    "sc.pl.highest_expr_genes(adata, n_top=20)\n"
   ]
  },
  {
   "cell_type": "markdown",
   "metadata": {},
   "source": [
    "Basic filtering"
   ]
  },
  {
   "cell_type": "code",
   "execution_count": null,
   "metadata": {},
   "outputs": [],
   "source": [
    "sc.pp.filter_cells(adata, min_genes=200)\n",
    "sc.pp.filter_genes(adata, min_cells=3)\n",
    "print(adata.shape)\n"
   ]
  },
  {
   "cell_type": "markdown",
   "metadata": {},
   "source": [
    "### Mitochondrial QC and general measures"
   ]
  },
  {
   "cell_type": "markdown",
   "metadata": {},
   "source": [
    "Check if genes are annotated as mt by running:\n",
    "- GENES= list(adata.var.index[adata.var.index.str.startswith('mt-'.upper())])\n",
    "- GENES\n",
    "\n",
    "In case the genes are not annotated as 'MT-'' (Like in bats), run:\n",
    "\n",
    "- dict_replace = {'COX1':'MT-COX1','COX2':'MT-COX2'...etc}\n",
    "- adata.var.rename(dict_replace, inplace = True)"
   ]
  },
  {
   "cell_type": "code",
   "execution_count": null,
   "metadata": {},
   "outputs": [],
   "source": [
    "dict_replace = {'COX1': 'MT-COX1',\n",
    "                'COX2': 'MT-COX2',\n",
    "                'COX3': 'MT-COX3',\n",
    "                'ND1': 'MT-ND1',\n",
    "                'ND2': 'MT-ND2',\n",
    "                'ND3': 'MT-ND3',\n",
    "                'ND4': 'MT-ND4',\n",
    "                'ND5': 'MT-ND5',\n",
    "                'ND6': 'MT-ND6',\n",
    "                'ND4L': 'MT-ND4L',\n",
    "                'ATP6': 'MT-ATP6',\n",
    "                'ATP8': 'MT-ATP8',\n",
    "                'CYTB': 'MT-CYTB'}\n",
    "adata.var.rename(dict_replace, inplace=True)\n",
    "# ONLY MT-ATP6, MT-ND1, MT-ND4L\n"
   ]
  },
  {
   "cell_type": "code",
   "execution_count": null,
   "metadata": {},
   "outputs": [],
   "source": [
    "adata.var[adata.var_names.str.startswith('MT-')]\n"
   ]
  },
  {
   "cell_type": "code",
   "execution_count": null,
   "metadata": {},
   "outputs": [],
   "source": [
    "adata.var['MT'] = adata.var_names.str.startswith('MT-')  # annotate the group of mitochondrial genes as 'MT'\n",
    "sc.pp.calculate_qc_metrics(adata,\n",
    "                           qc_vars=['MT'],\n",
    "                           percent_top=None,\n",
    "                           log1p=False,\n",
    "                           inplace=True)\n"
   ]
  },
  {
   "cell_type": "markdown",
   "metadata": {},
   "source": [
    "A violin plot of some of the computed quality measures:\n",
    "\n",
    "- the number of genes expressed in the count matrix\n",
    "- the total counts per cell\n",
    "- the percentage of counts in mitochondrial genes"
   ]
  },
  {
   "cell_type": "code",
   "execution_count": null,
   "metadata": {},
   "outputs": [],
   "source": [
    "sc.pp.calculate_qc_metrics(adata,\n",
    "                           percent_top=None,\n",
    "                           log1p=False,\n",
    "                           inplace=True)\n"
   ]
  },
  {
   "cell_type": "code",
   "execution_count": null,
   "metadata": {},
   "outputs": [],
   "source": [
    "sc.pl.scatter(adata, x='total_counts', y='n_genes_by_counts', color='batch')\n",
    "sc.pl.scatter(adata, x='total_counts', y='pct_counts_MT', color='batch')\n",
    "sc.pl.scatter(adata, x='total_counts', y='n_genes', color='batch')\n"
   ]
  },
  {
   "cell_type": "markdown",
   "metadata": {},
   "source": [
    "Actually do the filtering by slicing the AnnData object - By pct_counts_MT  and by total_counts /n_genes_by_counts or even n_genes"
   ]
  },
  {
   "cell_type": "code",
   "execution_count": null,
   "metadata": {},
   "outputs": [],
   "source": [
    "adata = adata[adata.obs.pct_counts_MT < 10]\n",
    "adata = adata[adata.obs.total_counts < 40000, :]  # If filtering outliers (<0.1% of cells)\n"
   ]
  },
  {
   "cell_type": "markdown",
   "metadata": {},
   "source": [
    "### Doublet analysis and filtering"
   ]
  },
  {
   "cell_type": "code",
   "execution_count": null,
   "metadata": {
    "code_folding": [
     0
    ]
   },
   "outputs": [],
   "source": [
    "def scrub(adatas, adata, adata_names):  # based on raw individual samples.\n",
    "    print('Before scrublet: ', adata.shape[0])\n",
    "    doub_index = []\n",
    "    barcodes = []\n",
    "    for data, name in zip(adatas, adata_names):\n",
    "        data.raw = data\n",
    "        sc.pp.normalize_total(data, target_sum=1e4)\n",
    "        sc.pp.log1p(data)\n",
    "        scrub = scr.Scrublet(data.raw.X)\n",
    "        data.obs['doublet_scores'], data.obs['predicted_doublets'] = scrub.scrub_doublets()\n",
    "        scrub.plot_histogram()\n",
    "        print('Doublets' + name + ' :', data.obs[data.obs['doublet_scores'] > 0.25].shape[0])\n",
    "        barcodes = data.obs[data.obs['doublet_scores'] < 0.25].index.to_list()\n",
    "        for barcode in barcodes:\n",
    "            doub_index.append(barcode + '-' + name)\n",
    "\n",
    "    adata = adata[adata.obs.index.isin(doub_index)]\n",
    "    print('After scrublet: ', adata.shape[0])\n",
    "    return adata\n"
   ]
  },
  {
   "cell_type": "code",
   "execution_count": null,
   "metadata": {},
   "outputs": [],
   "source": [
    "adata = scrub(adatas, adata, adata_names)  # adata_names in the same order as adatas\n"
   ]
  },
  {
   "cell_type": "markdown",
   "metadata": {},
   "source": [
    "### Cell cycle scoring"
   ]
  },
  {
   "cell_type": "markdown",
   "metadata": {},
   "source": [
    "download Cell cycle txt: https://github.com/scverse/scanpy_usage/blob/master/180209_cell_cycle/data/regev_lab_cell_cycle_genes.txt"
   ]
  },
  {
   "cell_type": "code",
   "execution_count": null,
   "metadata": {},
   "outputs": [],
   "source": [
    "cell_cycle_genes = [\n",
    "    x.strip()\n",
    "    for x in open(\n",
    "        r'C:\\Users\\TzachiHNB5\\Desktop\\reptiles\\komodo\\genes_names\\regev_lab_cell_cycle_genes.txt'\n",
    "    )\n",
    "]\n",
    "\n",
    "s_genes = cell_cycle_genes[:43]\n",
    "g2m_genes = cell_cycle_genes[43:]\n",
    "cell_cycle_genes = [x for x in cell_cycle_genes if x in adata.var_names]\n",
    "s_genes = [x for x in s_genes if x in adata.var_names]\n",
    "g2m_genes = [x for x in g2m_genes if x in adata.var_names]\n"
   ]
  },
  {
   "cell_type": "code",
   "execution_count": null,
   "metadata": {},
   "outputs": [],
   "source": [
    "cell_cycle_adata = adata.copy()\n",
    "\n",
    "sc.pp.normalize_per_cell(cell_cycle_adata, counts_per_cell_after=1e4)\n",
    "sc.pp.log1p(cell_cycle_adata)\n",
    "sc.pp.scale(cell_cycle_adata)\n",
    "sc.tl.score_genes_cell_cycle(cell_cycle_adata, s_genes=s_genes, g2m_genes=g2m_genes)\n",
    "adata_cc_genes = cell_cycle_adata[:, cell_cycle_genes].copy()\n",
    "sc.tl.pca(adata_cc_genes)\n",
    "sc.pl.pca_scatter(adata_cc_genes, color='phase')\n",
    "adata.obs['S_score'] = cell_cycle_adata.obs['S_score'].copy()\n",
    "adata.obs['G2M_score'] = cell_cycle_adata.obs['G2M_score'].copy()\n",
    "adata.obs['phase'] = cell_cycle_adata.obs['phase'].copy()\n"
   ]
  },
  {
   "cell_type": "markdown",
   "metadata": {},
   "source": [
    "### Saving adata"
   ]
  },
  {
   "cell_type": "code",
   "execution_count": null,
   "metadata": {},
   "outputs": [],
   "source": [
    "adata.var.index.name = 'eggnog'\n",
    "adata.var\n"
   ]
  },
  {
   "cell_type": "code",
   "execution_count": null,
   "metadata": {},
   "outputs": [],
   "source": [
    "adata.write('komodo_lf_and_ctrl.h5ad')"
   ]
  },
  {
   "cell_type": "code",
   "execution_count": null,
   "metadata": {},
   "outputs": [],
   "source": []
  }
 ],
 "metadata": {
  "kernelspec": {
   "display_name": "Python 3",
   "language": "python",
   "name": "python3"
  },
  "language_info": {
   "codemirror_mode": {
    "name": "ipython",
    "version": 3
   },
   "file_extension": ".py",
   "mimetype": "text/x-python",
   "name": "python",
   "nbconvert_exporter": "python",
   "pygments_lexer": "ipython3",
   "version": "3.10.11"
  },
  "toc": {
   "base_numbering": 1,
   "nav_menu": {},
   "number_sections": true,
   "sideBar": true,
   "skip_h1_title": false,
   "title_cell": "Table of Contents",
   "title_sidebar": "Contents",
   "toc_cell": false,
   "toc_position": {
    "height": "calc(100% - 180px)",
    "left": "10px",
    "top": "150px",
    "width": "349.091px"
   },
   "toc_section_display": true,
   "toc_window_display": true
  }
 },
 "nbformat": 4,
 "nbformat_minor": 4
}
