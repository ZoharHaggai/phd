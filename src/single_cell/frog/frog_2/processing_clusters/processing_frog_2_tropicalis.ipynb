{
 "cells": [
  {
   "cell_type": "markdown",
   "metadata": {},
   "source": [
    "# What is this doing\n",
    "Takes the QC file I created from the raw Single Cell data and proccesses it in to clusters and subclusters."
   ]
  },
  {
   "cell_type": "markdown",
   "metadata": {},
   "source": [
    "## Setup"
   ]
  },
  {
   "cell_type": "markdown",
   "metadata": {},
   "source": [
    "### Imports"
   ]
  },
  {
   "cell_type": "code",
   "execution_count": 1,
   "metadata": {},
   "outputs": [],
   "source": [
    "import numpy as np\n",
    "import scanpy as sc\n",
    "import os\n",
    "import pandas as pd\n",
    "import bbknn"
   ]
  },
  {
   "cell_type": "markdown",
   "metadata": {},
   "source": [
    "### Single Cell settings"
   ]
  },
  {
   "cell_type": "code",
   "execution_count": 2,
   "metadata": {},
   "outputs": [
    {
     "name": "stderr",
     "output_type": "stream",
     "text": [
      "C:\\Users\\TzachiHNB2\\AppData\\Local\\Temp\\ipykernel_19484\\738880785.py:2: FutureWarning: The specified parameters ('scanpy',) are no longer positional. Please specify them like `scanpy=80`\n",
      "  sc.settings.set_figure_params(80)\n"
     ]
    }
   ],
   "source": [
    "sc.settings.verbosity = 4\n",
    "sc.settings.set_figure_params(80) \n",
    "sc.settings.file_format_figures = 'png'\n",
    "sc.settings.savefigs = False\n",
    "use_first_n_samples = 0\n",
    "full_sparse = False"
   ]
  },
  {
   "cell_type": "markdown",
   "metadata": {},
   "source": [
    "### Defining a function for processing the data & determing the parameters"
   ]
  },
  {
   "cell_type": "code",
   "execution_count": 3,
   "metadata": {},
   "outputs": [],
   "source": [
    "def processing_batch(adata, neighbors=15, key='batch', reso=0.4, random_state=0):  # Higher resolution yields more leiden clusters \n",
    "    sc.pp.scale(adata, max_value=10)\n",
    "    sc.tl.pca(adata, svd_solver='arpack')\n",
    "    sc.logging.print_memory_usage()\n",
    "    sc.pp.neighbors(adata, n_neighbors=neighbors)\n",
    "    sc.pl.pca_variance_ratio(adata, log=True)\n",
    "    bbknn.bbknn(adata, batch_key=key, neighbors_within_batch=2, metric='euclidean', n_pcs=30, trim=None)\n",
    "    sc.tl.umap(adata)\n",
    "    sc.tl.leiden(adata, resolution=reso)\n",
    "    sc.pl.umap(adata, color='leiden')"
   ]
  },
  {
   "cell_type": "markdown",
   "metadata": {},
   "source": [
    "### Reading the excisting h5ad file I created previously in the QC pipeline "
   ]
  },
  {
   "cell_type": "code",
   "execution_count": null,
   "metadata": {},
   "outputs": [],
   "source": [
    "#adata after QC\n",
    "# adata = sc.read(r'/Code/data/single_cell/animals/frog/frog_2/tropicalis/''frog_2_after_qc.h5ad') \n",
    "\n",
    "sc.read_h5ad(r'/Code/data/single_cell/animals/frog/frog_2/laevis/''frog_2_after_qc.h5ad')\n",
    "\n",
    "# If the anndata object is processed and contains the raw data in adata.raw run -  adata = adata.raw.to_adata()"
   ]
  },
  {
   "cell_type": "markdown",
   "metadata": {},
   "source": [
    "## Preprocessing the data "
   ]
  },
  {
   "cell_type": "code",
   "execution_count": null,
   "metadata": {},
   "outputs": [],
   "source": [
    "adata"
   ]
  },
  {
   "cell_type": "code",
   "execution_count": null,
   "metadata": {},
   "outputs": [],
   "source": [
    "adata.obs"
   ]
  },
  {
   "cell_type": "code",
   "execution_count": null,
   "metadata": {},
   "outputs": [],
   "source": [
    "adata.var"
   ]
  },
  {
   "cell_type": "code",
   "execution_count": null,
   "metadata": {},
   "outputs": [],
   "source": [
    "# Cleaning, normalizing, reducing dimensionality, clustering cells and creating visualizations.\n",
    "\n",
    "sc.pp.normalize_total(adata)\n",
    "sc.pp.log1p(adata)\n",
    "sc.pp.highly_variable_genes(adata, min_mean=0.0125, max_mean=3, min_disp=0.5)\n",
    "sc.pl.highly_variable_genes(adata)\n",
    "adata.raw = adata\n",
    "# adata = adata[:, adata.var.highly_variable] # For filtering non Highly variable genes. We usually keep all the genes. "
   ]
  },
  {
   "cell_type": "code",
   "execution_count": null,
   "metadata": {},
   "outputs": [],
   "source": [
    "sc.pp.regress_out(adata, ['total_counts','pct_counts_MT'])\n",
    "\n",
    "# Got it from: https://github.com/theislab/single-cell-tutorial/issues/35\n",
    "sc.pp.scale(adata, max_value=10)\n",
    "sc.pp.pca(adata, n_comps=50, use_highly_variable=True, svd_solver='arpack')\n",
    "sc.pp.neighbors(adata)\n",
    "sc.tl.umap(adata) "
   ]
  },
  {
   "cell_type": "code",
   "execution_count": null,
   "metadata": {},
   "outputs": [],
   "source": [
    "processing_batch(adata, key='treatment')"
   ]
  },
  {
   "cell_type": "code",
   "execution_count": null,
   "metadata": {},
   "outputs": [],
   "source": [
    "sc.tl.rank_genes_groups(adata, groupby='treatment', method='wilcoxon')\n",
    "sc.pl.rank_genes_groups(adata, n_genes=50, sharey=True)\n",
    "pd.DataFrame(adata.uns['rank_genes_groups']['names']).head(20)\n",
    "\n",
    "# sc.pl.umap(adata[adata.obs['treatment'] == 'control'], color = ['PLAC8', 'CD83', 'CD74', 'CD79B', 'CD38', 'IL10', 'CD7'], size=50)"
   ]
  },
  {
   "cell_type": "code",
   "execution_count": null,
   "metadata": {},
   "outputs": [],
   "source": [
    "adata.obs['treatment'].value_counts()"
   ]
  },
  {
   "cell_type": "markdown",
   "metadata": {},
   "source": [
    "### UMAP's"
   ]
  },
  {
   "cell_type": "markdown",
   "metadata": {},
   "source": [
    "Markers test box"
   ]
  },
  {
   "cell_type": "markdown",
   "metadata": {},
   "source": [
    "#### T cells"
   ]
  },
  {
   "cell_type": "code",
   "execution_count": null,
   "metadata": {},
   "outputs": [],
   "source": [
    "# T cells. 'CCR7' is a marker for T cells and also B cells. Markers from Roy's Extended_Data_Figures.\n",
    "# Markers for T cells https://www.beckman.com/resources/cell-types/blood-cells/leukocytes/lymphocytes/t-cells\n",
    "sc.pl.umap(adata, color=['CD3G','CD3E_1','CD3E_2','CD37L_1','CD37L_2','CD3Z_1',\n",
    "                         'CD3Z_2','CD37_1','CD37_2','CD3EAP','STMN3_1',\n",
    "                         'STMN3_2','LEF1_1','LEF1_2','LEF1_3','RORA_1','RORA_2',\n",
    "                         'GPR17_1','CCR7_1','CCR7_3','CXCR3_2','TCF20_1',\n",
    "                         'TCF20_2','TCF19_1','TCF19_2','IL7RA','HOP2_4','CD4_1',\n",
    "                         'CD4_2','GZF1_1','TNFRSF9_1','TNFRSF9_2','TNFSF8',\n",
    "                         'IL4R_1','IL4R_3','IL27B','IL2RB_1','IL2RB_2','IL2RG',\n",
    "                         'IL21R_1','IL27_1','IL21R_2','TNF10_4','TNF11_1','TNF11_2',\n",
    "                         'TBX21_1','IL10_2','IL10RA_1','GBP7_1','GBP7_2',\n",
    "                         'SEPT6_1','SEPT6_2'], size=50)\n",
    "\n",
    "sc.pl.umap(adata, color='leiden', size=30)"
   ]
  },
  {
   "cell_type": "code",
   "execution_count": null,
   "metadata": {},
   "outputs": [],
   "source": [
    "sc.pl.umap(adata, color=['TNF6B_1','TNF6B_2'], size=30)"
   ]
  },
  {
   "cell_type": "markdown",
   "metadata": {},
   "source": [
    "#### B cells"
   ]
  },
  {
   "cell_type": "code",
   "execution_count": null,
   "metadata": {},
   "outputs": [],
   "source": [
    "# B cells markers from Roy's data and from https://panglaodb.se/markers.html?cell_type=%27Platelets%27#google_vignette\n",
    "\n",
    "sc.pl.umap(adata, color=['CD79B_1','CD79B_2','CD38','IRF8_1','IRF8_2','IRF8_3',\n",
    "                         'CCR7_1','PXK','BANK1','BACH2_1','BACH2_2','CD79A_1',\n",
    "                         'CD79A_2','PLAC9_2','IGHM','CD81_1','CD81_2','CD81_4',\n",
    "                         'CD82_2','CD84_1','CD84_3','CD22_4','CD22_5','CD22_6',\n",
    "                         'CD22_7'], size=50)\n",
    "\n",
    "celltype = {'0':'0','1':'T_cells','2':'2','3':'3','4':'4','5':'5','6':'6','7':'T_cells'}\n",
    "adata.obs['cell_type'] = adata.obs.leiden.map(celltype).astype('category')\n",
    "sc.pl.umap(adata, color='cell_type', size=20)"
   ]
  },
  {
   "cell_type": "markdown",
   "metadata": {},
   "source": [
    "#### RBC"
   ]
  },
  {
   "cell_type": "code",
   "execution_count": null,
   "metadata": {},
   "outputs": [],
   "source": [
    "# RBC markers from Roy's data and from https://panglaodb.se/markers\n",
    "\n",
    "sc.pl.umap(adata, color=['HBAP1','HBA3_3','HBA3_6','HBA3_7','HBA1','HBA4','HBA2','HBB2_9',\n",
    "                         'SLC30A1','ANK1_1','ANK1_2','HBB1','GPX1_1','GPX1_2'], size=50)\n",
    "\n",
    "celltype = {'0':'B_cells','1':'1','2':'2','3':'3','4':'4','5':'5','6':'6','7':'T_cells'}\n",
    "adata.obs['cell_type'] = adata.obs.leiden.map(celltype).astype('category')\n",
    "sc.pl.umap(adata, color='cell_type', size=30)"
   ]
  },
  {
   "cell_type": "markdown",
   "metadata": {},
   "source": [
    "#### Platelets"
   ]
  },
  {
   "cell_type": "code",
   "execution_count": null,
   "metadata": {},
   "outputs": [],
   "source": [
    "# Platelets markers from Roy's data and from https://panglaodb.se/markers.html?cell_type=%27Platelets%27#google_vignette\n",
    "\n",
    "sc.pl.umap(adata, color=['PLEK','GNAS_1','GNAS_2','OAZ1_1','OAZ1_1','CD38',\n",
    "                         'CD3EAP','ITGB3BP','IIGP5_1','IIGP5_2','IIGP5_3'], size=30)\n",
    "\n",
    "celltype = {'0':'0','1':'1','2':'2','3':'3','4':'RBC','5':'5','6':'6','7':'T_cells'}\n",
    "adata.obs['cell_type'] = adata.obs.leiden.map(celltype).astype('category')\n",
    "sc.pl.umap(adata, color='cell_type', size=20)"
   ]
  },
  {
   "cell_type": "markdown",
   "metadata": {},
   "source": [
    "#### Monocytes"
   ]
  },
  {
   "cell_type": "code",
   "execution_count": null,
   "metadata": {},
   "outputs": [],
   "source": [
    "# Monocytes markers from Roy's data and from https://panglaodb.se/markers\n",
    "\n",
    "sc.pl.umap(adata, color=['S100A11','TET2_1','TET2_1','TLR4','CCR2','TXNL1_1',\n",
    "                         'TXNL1_2','TXND9','TXN4B','TXND5_1','TXND5_2','TXN4A',\n",
    "                         'TXNIP_1','TXNIP_2','MAFB_1','MAFB_2','PPA5_1',\n",
    "                         'GBP1_2','IRF3_1','IRF3_2','IRF3_3','PLS1_1','PLS1_3',\n",
    "                         'PLS1_4','PLS1_6','PLS1_10','RGS12_1','RGS12_2','RGS14_1',\n",
    "                         'RGS14_2','RGS1_1','RGS18_2','RGS1_2','RGS10_1','RGS19_1',\n",
    "                         'RGS19_2','IFIT5_13','IFIT5_14','IFIT5_15','RSAD2_1',\n",
    "                         'RSAD2_2','ZNFX1_1','ZNFX1_2','IFIH1','PARP1','CMPK2_1',\n",
    "                         'CMPK2_2'], size=50)\n",
    "\n",
    "celltype = {'0':'0','1':'1','2':'2','3':'3','4':'RBC','5':'5','6':'6','7':'T_cells'}\n",
    "adata.obs['cell_type'] = adata.obs.leiden.map(celltype).astype('category')\n",
    "sc.pl.umap(adata, color='cell_type', size=20)"
   ]
  },
  {
   "cell_type": "markdown",
   "metadata": {},
   "source": [
    "#### All clusters"
   ]
  },
  {
   "cell_type": "code",
   "execution_count": null,
   "metadata": {},
   "outputs": [],
   "source": [
    "celltype = {'0':'B_cells','1':'T_cells','2':'Monocytes','3':'3','4':'RBC','5':'Monocytes','6':'Monocytes','7':'T_cells'}\n",
    "adata.obs['cell_type'] = adata.obs.leiden.map(celltype).astype('category')\n",
    "sc.pl.umap(adata, color='cell_type', size=50)"
   ]
  },
  {
   "cell_type": "code",
   "execution_count": null,
   "metadata": {},
   "outputs": [],
   "source": [
    "celltype = {'0':'0','1':'1','2':'2','3':'3','4':'RBC','5':'5','6':'6','7':'7'}\n",
    "adata.obs['cell_type'] = adata.obs.leiden.map(celltype).astype('category')\n",
    "sc.pl.umap(adata, color='cell_type', size=30)"
   ]
  },
  {
   "cell_type": "code",
   "execution_count": null,
   "metadata": {},
   "outputs": [],
   "source": [
    "adata.obs['cell_type'].value_counts()"
   ]
  },
  {
   "cell_type": "code",
   "execution_count": null,
   "metadata": {},
   "outputs": [],
   "source": [
    "sc.pl.umap(adata, color=['CD1A'], size=50)\n",
    "sc.pl.umap(adata, color='cell_type', size=50)"
   ]
  },
  {
   "cell_type": "markdown",
   "metadata": {},
   "source": [
    "### Main data after manipulations for presenation"
   ]
  },
  {
   "cell_type": "code",
   "execution_count": null,
   "metadata": {},
   "outputs": [],
   "source": [
    "df_isg_genes = pd.read_csv('/Code/data/single_cell/animals/frog/frog_2/laevis/ISG_genes_frog_2_african.csv', index_col=0)\n",
    "df_isg_genes = df_isg_genes.sort_index()\n",
    "\n",
    "df_isg_genes"
   ]
  },
  {
   "cell_type": "code",
   "execution_count": null,
   "metadata": {},
   "outputs": [],
   "source": [
    "isg_genes_list = df_isg_genes.index.tolist()\n",
    "isg_genes_list"
   ]
  },
  {
   "cell_type": "markdown",
   "metadata": {},
   "source": [
    "#### UMAP's of the ISG genes"
   ]
  },
  {
   "cell_type": "code",
   "execution_count": null,
   "metadata": {},
   "outputs": [],
   "source": [
    "# celltype = {'0':'Platelets','1':'T_cells','2':'B_cells','3':'Monocytes','4':'T_cells','5':'RBC','6':'Monocytes'}\n",
    "# adata.obs['cell_type'] = adata.obs.leiden.map(celltype).astype('category')\n",
    "sc.pl.umap(adata, color=isg_genes_list, size=50)"
   ]
  },
  {
   "cell_type": "markdown",
   "metadata": {},
   "source": [
    "#### Dotplot of the ISG genes in expressed in turtle"
   ]
  },
  {
   "cell_type": "code",
   "execution_count": null,
   "metadata": {},
   "outputs": [],
   "source": [
    "sc.pl.dotplot(adata, isg_genes_list, groupby='treatment', standard_scale='var')"
   ]
  },
  {
   "cell_type": "markdown",
   "metadata": {},
   "source": [
    "## Gene search tools\n",
    "This function returns a list of genes that are present in adata (markers for example) from an input of a general list."
   ]
  },
  {
   "cell_type": "code",
   "execution_count": null,
   "metadata": {},
   "outputs": [],
   "source": [
    "def find_gene(gene):\n",
    "    GENES = list(adata.raw.var.index[adata.raw.var.index.str.startswith(gene.upper())])\n",
    "    return GENES\n",
    "\n",
    "find_gene('PSB8')"
   ]
  },
  {
   "cell_type": "code",
   "execution_count": null,
   "metadata": {},
   "outputs": [],
   "source": [
    "sc.pl.umap(adata[adata.obs['treatment'] == 'control'], color='TLR4', size=50)\n",
    "sc.pl.dotplot(adata, 'TLR4', groupby='treatment', standard_scale='var')\n",
    "\n",
    "sc.pl.umap(adata[adata.obs['treatment'] == 'lps'], color='TLR4', size=50)\n",
    "sc.pl.dotplot(adata, 'TLR4', groupby='treatment', standard_scale='var')"
   ]
  }
 ],
 "metadata": {
  "kernelspec": {
   "display_name": "Python 3",
   "language": "python",
   "name": "python3"
  },
  "language_info": {
   "codemirror_mode": {
    "name": "ipython",
    "version": 3
   },
   "file_extension": ".py",
   "mimetype": "text/x-python",
   "name": "python",
   "nbconvert_exporter": "python",
   "pygments_lexer": "ipython3",
   "version": "3.10.11"
  },
  "orig_nbformat": 4
 },
 "nbformat": 4,
 "nbformat_minor": 2
}
