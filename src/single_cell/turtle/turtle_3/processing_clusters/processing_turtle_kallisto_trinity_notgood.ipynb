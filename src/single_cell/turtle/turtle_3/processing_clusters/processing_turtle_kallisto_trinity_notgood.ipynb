{
 "cells": [
  {
   "cell_type": "markdown",
   "metadata": {},
   "source": [
    "Takes the Single Cell seq data (the upregulated DE genes) and proccess it in to clusters and subclusters."
   ]
  },
  {
   "cell_type": "markdown",
   "metadata": {},
   "source": [
    "## Setup"
   ]
  },
  {
   "cell_type": "markdown",
   "metadata": {},
   "source": [
    "### Imports"
   ]
  },
  {
   "cell_type": "code",
   "execution_count": 1,
   "metadata": {},
   "outputs": [],
   "source": [
    "import numpy as np\n",
    "import scanpy as sc\n",
    "import os\n",
    "import pandas as pd\n",
    "import bbknn"
   ]
  },
  {
   "cell_type": "markdown",
   "metadata": {},
   "source": [
    "### Single Cell settings"
   ]
  },
  {
   "cell_type": "code",
   "execution_count": 2,
   "metadata": {},
   "outputs": [
    {
     "name": "stderr",
     "output_type": "stream",
     "text": [
      "C:\\Users\\TzachiHNB2\\AppData\\Local\\Temp\\ipykernel_19508\\738880785.py:2: FutureWarning: The specified parameters ('scanpy',) are no longer positional. Please specify them like `scanpy=80`\n",
      "  sc.settings.set_figure_params(80)\n"
     ]
    }
   ],
   "source": [
    "sc.settings.verbosity = 4\n",
    "sc.settings.set_figure_params(80) \n",
    "sc.settings.file_format_figures = 'png'\n",
    "sc.settings.savefigs = False\n",
    "use_first_n_samples = 0\n",
    "full_sparse = False"
   ]
  },
  {
   "cell_type": "markdown",
   "metadata": {},
   "source": [
    "### Defining a function for processing the data & determing the parameters"
   ]
  },
  {
   "cell_type": "code",
   "execution_count": 3,
   "metadata": {},
   "outputs": [],
   "source": [
    "def processing_batch(adata, neighbors=15, key='batch', reso=0.4, random_state=0):  # Higher resolution yields more leiden clusters \n",
    "    sc.pp.scale(adata, max_value=10)\n",
    "    sc.tl.pca(adata, svd_solver='arpack')\n",
    "    sc.logging.print_memory_usage()\n",
    "    sc.pp.neighbors(adata, n_neighbors=neighbors)\n",
    "    sc.pl.pca_variance_ratio(adata, log=True)\n",
    "    bbknn.bbknn(adata, batch_key=key, neighbors_within_batch=2, metric='euclidean', n_pcs=30, trim=None)\n",
    "    sc.tl.umap(adata)\n",
    "    sc.tl.leiden(adata, resolution=reso)\n",
    "    sc.pl.umap(adata, color='leiden')"
   ]
  },
  {
   "cell_type": "markdown",
   "metadata": {},
   "source": [
    "### Reading the excisting h5ad files "
   ]
  },
  {
   "cell_type": "code",
   "execution_count": null,
   "metadata": {},
   "outputs": [],
   "source": [
    "#adata after QC\n",
    "\n",
    "adata = sc.read(r'/Code/data/single_cell/animals/turtle/turtle_3/h5ads/painted_turtle/''adata_painted_control.h5ad') \n",
    "\n",
    "sc.read_h5ad(r'/Code/data/single_cell/animals/turtle/turtle_3/h5ads/painted_turtle/''adata_painted_control.h5ad')"
   ]
  },
  {
   "cell_type": "markdown",
   "metadata": {},
   "source": [
    "### Preprocessing the data "
   ]
  },
  {
   "cell_type": "code",
   "execution_count": null,
   "metadata": {},
   "outputs": [],
   "source": [
    "# Cleaning, normalizing, reducing dimensionality, clustering cells and creating visualizations.\n",
    "\n",
    "sc.pp.normalize_total(adata)\n",
    "sc.pp.log1p(adata)\n",
    "sc.pp.highly_variable_genes(adata, min_mean=0.0125, max_mean=3, min_disp=0.5)\n",
    "sc.pl.highly_variable_genes(adata)\n",
    "adata.raw = adata\n",
    "# adata = adata[:, adata.var.highly_variable] # For filtering non Highly variable genes. We usually keep all the genes. "
   ]
  },
  {
   "cell_type": "code",
   "execution_count": null,
   "metadata": {},
   "outputs": [],
   "source": [
    "sc.pp.regress_out(adata, 'total_counts')\n",
    "\n",
    "# Got it from: https://github.com/theislab/single-cell-tutorial/issues/35\n",
    "sc.pp.scale(adata, max_value=10)\n",
    "sc.pp.pca(adata, n_comps=50, use_highly_variable=True, svd_solver='arpack')\n",
    "sc.pp.neighbors(adata)\n",
    "sc.tl.umap(adata) "
   ]
  },
  {
   "cell_type": "code",
   "execution_count": null,
   "metadata": {},
   "outputs": [],
   "source": [
    "processing_batch(adata, key='treatment') "
   ]
  },
  {
   "cell_type": "code",
   "execution_count": null,
   "metadata": {},
   "outputs": [],
   "source": [
    "sc.tl.rank_genes_groups(adata, groupby='treatment', method='wilcoxon')\n",
    "sc.pl.rank_genes_groups(adata, n_genes=50, sharey=True)\n",
    "pd.DataFrame(adata.uns['rank_genes_groups']['names']).head(20)\n",
    "\n",
    "# sc.pl.umap(adata[adata.obs['treatment'] == 'control'], color = ['PLAC8', 'CD83', 'CD74', 'CD79B', 'CD38', 'IL10', 'CD7'], size=50)"
   ]
  }
 ],
 "metadata": {
  "kernelspec": {
   "display_name": "Python 3",
   "language": "python",
   "name": "python3"
  },
  "language_info": {
   "codemirror_mode": {
    "name": "ipython",
    "version": 3
   },
   "file_extension": ".py",
   "mimetype": "text/x-python",
   "name": "python",
   "nbconvert_exporter": "python",
   "pygments_lexer": "ipython3",
   "version": "3.10.11"
  },
  "orig_nbformat": 4
 },
 "nbformat": 4,
 "nbformat_minor": 2
}
