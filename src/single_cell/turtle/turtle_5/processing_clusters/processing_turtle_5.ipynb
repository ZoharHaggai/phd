{
 "cells": [
  {
   "cell_type": "markdown",
   "metadata": {},
   "source": [
    "# Processing the QC file we created from the raw Single Cell data in to clusters"
   ]
  },
  {
   "cell_type": "markdown",
   "metadata": {},
   "source": [
    "## Imports"
   ]
  },
  {
   "cell_type": "code",
   "execution_count": null,
   "metadata": {},
   "outputs": [],
   "source": [
    "import numpy as np\n",
    "import scanpy as sc\n",
    "import os\n",
    "import pandas as pd\n",
    "import bbknn"
   ]
  },
  {
   "cell_type": "markdown",
   "metadata": {},
   "source": [
    "## Single Cell settings"
   ]
  },
  {
   "cell_type": "code",
   "execution_count": null,
   "metadata": {},
   "outputs": [],
   "source": [
    "sc.settings.verbosity = 4\n",
    "sc.settings.set_figure_params(80) \n",
    "sc.settings.file_format_figures = 'png'\n",
    "sc.settings.savefigs = False\n",
    "use_first_n_samples = 0\n",
    "full_sparse = False"
   ]
  },
  {
   "cell_type": "markdown",
   "metadata": {},
   "source": [
    "## Defining a function for processing the data & determing the parameters"
   ]
  },
  {
   "cell_type": "code",
   "execution_count": null,
   "metadata": {},
   "outputs": [],
   "source": [
    "def processing_batch(adata, neighbors=15, key='batch', reso=0.4, random_state=0):  # Higher resolution yields more leiden clusters \n",
    "    sc.pp.scale(adata, max_value=10)\n",
    "    sc.tl.pca(adata, svd_solver='arpack')\n",
    "    sc.logging.print_memory_usage()\n",
    "    sc.pp.neighbors(adata, n_neighbors=neighbors)\n",
    "    sc.pl.pca_variance_ratio(adata, log=True)\n",
    "    bbknn.bbknn(adata, batch_key=key, neighbors_within_batch=2, metric='euclidean', n_pcs=30, trim=None)\n",
    "    sc.tl.umap(adata)\n",
    "    sc.tl.leiden(adata, resolution=reso)\n",
    "    sc.pl.umap(adata, color='leiden')"
   ]
  },
  {
   "cell_type": "markdown",
   "metadata": {},
   "source": [
    "## Reading the excisting h5ad file we created previously, in the QC pipeline "
   ]
  },
  {
   "cell_type": "code",
   "execution_count": null,
   "metadata": {},
   "outputs": [],
   "source": [
    "#adata after QC\n",
    "adata = sc.read(r'/Code/data/single_cell/animals/turtle/turtle_5/''turtle_5_after_qc.h5ad') \n",
    "\n",
    "sc.read_h5ad(r'/Code/data/single_cell/animals/turtle/turtle_5/''turtle_5_after_qc.h5ad')\n",
    "\n",
    "# If the anndata object is processed and contains the raw data in adata.raw run -  adata = adata.raw.to_adata()"
   ]
  },
  {
   "cell_type": "markdown",
   "metadata": {},
   "source": [
    "## Processing the data "
   ]
  },
  {
   "cell_type": "code",
   "execution_count": null,
   "metadata": {},
   "outputs": [],
   "source": [
    "adata"
   ]
  },
  {
   "cell_type": "code",
   "execution_count": null,
   "metadata": {},
   "outputs": [],
   "source": [
    "adata.obs"
   ]
  },
  {
   "cell_type": "code",
   "execution_count": null,
   "metadata": {},
   "outputs": [],
   "source": [
    "adata.var"
   ]
  },
  {
   "cell_type": "markdown",
   "metadata": {},
   "source": [
    "### Cleaning, normalizing, reducing dimensionality, clustering cells and creating visualizations"
   ]
  },
  {
   "cell_type": "code",
   "execution_count": null,
   "metadata": {},
   "outputs": [],
   "source": [
    "sc.pp.normalize_total(adata)\n",
    "sc.pp.log1p(adata)\n",
    "sc.pp.highly_variable_genes(adata, min_mean=0.0125, max_mean=3, min_disp=0.5)\n",
    "sc.pl.highly_variable_genes(adata)\n",
    "adata.raw = adata\n",
    "# adata = adata[:, adata.var.highly_variable] # For filtering non Highly variable genes. We usually keep all the genes. "
   ]
  },
  {
   "cell_type": "code",
   "execution_count": null,
   "metadata": {},
   "outputs": [],
   "source": [
    "sc.pp.regress_out(adata, ['total_counts','pct_counts_MT'])\n",
    "\n",
    "# Got it from: https://github.com/theislab/single-cell-tutorial/issues/35\n",
    "sc.pp.scale(adata, max_value=10)\n",
    "sc.pp.pca(adata, n_comps=50, use_highly_variable=True, svd_solver='arpack')\n",
    "sc.pp.neighbors(adata)\n",
    "sc.tl.umap(adata) "
   ]
  },
  {
   "cell_type": "code",
   "execution_count": null,
   "metadata": {},
   "outputs": [],
   "source": [
    "processing_batch(adata, key='treatment')"
   ]
  },
  {
   "cell_type": "markdown",
   "metadata": {},
   "source": [
    "### Ranking genes ( = top 20)"
   ]
  },
  {
   "cell_type": "code",
   "execution_count": null,
   "metadata": {},
   "outputs": [],
   "source": [
    "sc.tl.rank_genes_groups(adata, groupby='treatment', method='wilcoxon')\n",
    "sc.pl.rank_genes_groups(adata, n_genes=50, sharey=True)\n",
    "pd.DataFrame(adata.uns['rank_genes_groups']['names']).head(20)\n",
    "\n",
    "# sc.pl.umap(adata[adata.obs['treatment'] == 'control'], color = ['PLAC8', 'CD83', 'CD74', 'CD79B', 'CD38', 'IL10', 'CD7'], size=50)"
   ]
  },
  {
   "cell_type": "code",
   "execution_count": null,
   "metadata": {},
   "outputs": [],
   "source": [
    "adata.obs['treatment'].value_counts()"
   ]
  },
  {
   "cell_type": "markdown",
   "metadata": {},
   "source": [
    "### UMAP's"
   ]
  },
  {
   "cell_type": "markdown",
   "metadata": {},
   "source": [
    "#### Markers test box"
   ]
  },
  {
   "cell_type": "code",
   "execution_count": null,
   "metadata": {},
   "outputs": [],
   "source": [
    "sc.pl.umap(adata, color=['CD81'], size=20)"
   ]
  },
  {
   "cell_type": "markdown",
   "metadata": {},
   "source": [
    "#### T cells"
   ]
  },
  {
   "cell_type": "code",
   "execution_count": null,
   "metadata": {},
   "outputs": [],
   "source": [
    "# sc.pl.umap(adata, color=['CD3D','CD247','TCF7','GPR171'], size=20)\n",
    "# sc.pl.umap(adata, color='leiden', size=20)"
   ]
  },
  {
   "cell_type": "code",
   "execution_count": null,
   "metadata": {},
   "outputs": [],
   "source": [
    "# T cells. 'CCR7' is a marker for T cells and also B cells. Markers from Roy's Extended_Data_Figures.\n",
    "# Markers for T cells https://www.beckman.com/resources/cell-types/blood-cells/leukocytes/lymphocytes/t-cells\n",
    "# https://panglaodb.se/markers.html?cell_type=%27T%20cells%27\n",
    "\n",
    "sc.pl.umap(adata, color=['CD3D','CD3E','CD28','CD226','CD247', \n",
    "                         'CD4','CD7_3','CD38','STMN1','LEF1',\n",
    "                         'RORA','GPR171','CCR7','CXCR4','TCF7',\n",
    "                         'GPR183_1','GPR183_2','ALOX5AP','IL7R','HOPX',\n",
    "                         'CD8A_2','CD8B','CD82'], size=30)\n",
    "\n",
    "sc.pl.umap(adata, color='leiden', size=30)"
   ]
  },
  {
   "cell_type": "code",
   "execution_count": null,
   "metadata": {},
   "outputs": [],
   "source": [
    "# sc.pl.umap(adata[adata.obs['treatment'] == 'control'], color='CD3D', size=30)\n",
    "# sc.pl.dotplot(adata, 'CD3D', groupby='treatment', standard_scale='var')\n",
    "\n",
    "# sc.pl.umap(adata[adata.obs['treatment'] == 'lps'], color='CD3D', size=30)\n",
    "# sc.pl.dotplot(adata, 'CD3D', groupby='treatment', standard_scale='var')"
   ]
  },
  {
   "cell_type": "code",
   "execution_count": null,
   "metadata": {},
   "outputs": [],
   "source": [
    "# sc.pl.umap(adata[adata.obs['treatment'] == 'control'], color='IFNAR2', size=30)\n",
    "# sc.pl.dotplot(adata, 'IFNAR2', groupby='treatment', standard_scale='var')\n",
    "\n",
    "# sc.pl.umap(adata[adata.obs['treatment'] == 'pic'], color='IFNAR2', size=30)\n",
    "# sc.pl.dotplot(adata, 'IFNAR2', groupby='treatment', standard_scale='var')"
   ]
  },
  {
   "cell_type": "markdown",
   "metadata": {},
   "source": [
    "#### B cells"
   ]
  },
  {
   "cell_type": "code",
   "execution_count": null,
   "metadata": {},
   "outputs": [],
   "source": [
    "# B cells markers from Roy's data and from https://panglaodb.se/markers.html?cell_type=%27Platelets%27#google_vignette\n",
    "\n",
    "sc.pl.umap(adata, color=['CD79B', 'CD38','IRF8','STMN1','IGJ','TCF4_1',\n",
    "                         'TCF4_2', 'CCR7','PXK','BANK1','BACH2','CD74',\n",
    "                         'PLAC8_1','PLAC8_2','IGHM','HLA-DPB1_5',\n",
    "                         'HLA-DPB1_6','HLA-DMA','CD83','CD81'], size=30)\n",
    "\n",
    "celltype = {'0':'0','1':'1','2':'T_cells','3':'3','4':'T_cells','5':'5','6':'T_cells',\n",
    "            '7':'T_cells','8':'8','9':'9','10':'10'}\n",
    "adata.obs['cell_type'] = adata.obs.leiden.map(celltype).astype('category')\n",
    "sc.pl.umap(adata, color='cell_type', size=20)"
   ]
  },
  {
   "cell_type": "markdown",
   "metadata": {},
   "source": [
    "#### RBC"
   ]
  },
  {
   "cell_type": "code",
   "execution_count": null,
   "metadata": {},
   "outputs": [],
   "source": [
    "# RBC markers from Roy's data and from https://panglaodb.se/markers.html?cell_type=%27Platelets%27#google_vignette\n",
    "\n",
    "sc.pl.umap(adata, color=['STMN1','HBA','HBM','SLC4A1','ANK1'], size=30)\n",
    "\n",
    "celltype = {'0':'0','1':'1','2':'T_cells','3':'3','4':'T_cells','5':'B_cells','6':'T_cells',\n",
    "            '7':'T_cells','8':'8','9':'9','10':'10'}\n",
    "adata.obs['cell_type'] = adata.obs.leiden.map(celltype).astype('category')\n",
    "sc.pl.umap(adata, color='cell_type', size=20)"
   ]
  },
  {
   "cell_type": "markdown",
   "metadata": {},
   "source": [
    "#### Platelets"
   ]
  },
  {
   "cell_type": "code",
   "execution_count": null,
   "metadata": {},
   "outputs": [],
   "source": [
    "# Platelets markers from Roy's data and from https://panglaodb.se/markers.html?cell_type=%27Platelets%27#google_vignette\n",
    "\n",
    "sc.pl.umap(adata, color=['TUBB1','PLEK','B2M','GP1BA_1','F13A1',\n",
    "                         'GNAS','TAGLN2','OAZ1','CD226','PECAM1',\n",
    "                         'CD36','GP1BA_2','ITGB3','ENSGALG00010014668'], size=30)\n",
    "\n",
    "celltype = {'0':'0','1':'1','2':'T_cells','3':'RBC','4':'T_cells','5':'B_cells','6':'T_cells',\n",
    "            '7':'T_cells','8':'8','9':'9','10':'10'}\n",
    "adata.obs['cell_type'] = adata.obs.leiden.map(celltype).astype('category')\n",
    "sc.pl.umap(adata, color='cell_type', size=20)"
   ]
  },
  {
   "cell_type": "markdown",
   "metadata": {},
   "source": [
    "#### Monocytes"
   ]
  },
  {
   "cell_type": "code",
   "execution_count": null,
   "metadata": {},
   "outputs": [],
   "source": [
    "# Monocytes markers from Roy's data and from https://panglaodb.se/markers.html?cell_type=%27Platelets%27#google_vignette\n",
    "\n",
    "sc.pl.umap(adata, color=['SPI1','S100A4','C1QA','LYZ','LGALS3','CSF1R',\n",
    "                         'MAFB','CD7_3','TET2','CD40','TLR4','S100A10_2',\n",
    "                         'S100A11','CSTA','CCR2','CCL8_1','CCL8_3','TXN',\n",
    "                         'MAFB','ACP5','GBP1_1','GBP1_2','GBP1_3','IRF7',\n",
    "                         'PLSCR1','RGS1','S100A6','MRC1_3','OASL',\n",
    "                         'IFIT5','S100A9','RSAD2','ZNFX1','IFIH1','SMCHD1',\n",
    "                         'PARP14_2','ENSGALG00010007911','CMPK2'], size=30)\n",
    "\n",
    "celltype = {'0':'0','1':'Platelets','2':'T_cells','3':'RBC','4':'T_cells','5':'B_cells','6':'T_cells',\n",
    "            '7':'T_cells','8':'8','9':'9','10':'10'}\n",
    "adata.obs['cell_type'] = adata.obs.leiden.map(celltype).astype('category')\n",
    "sc.pl.umap(adata, color='cell_type', size=20)"
   ]
  },
  {
   "cell_type": "markdown",
   "metadata": {},
   "source": [
    "#### All clusters after annotations"
   ]
  },
  {
   "cell_type": "code",
   "execution_count": null,
   "metadata": {},
   "outputs": [],
   "source": [
    "celltype = {'0':'Monocytes','1':'Platelets','2':'T_cells','3':'RBC','4':'T_cells','5':'B_cells','6':'T_cells',\n",
    "            '7':'T_cells','8':'Monocytes','9':'Monocytes','10':'Monocytes'}\n",
    "adata.obs['cell_type'] = adata.obs.leiden.map(celltype).astype('category')\n",
    "sc.pl.umap(adata, color='cell_type', size=30, save=True)"
   ]
  },
  {
   "cell_type": "code",
   "execution_count": null,
   "metadata": {},
   "outputs": [],
   "source": [
    "adata.obs['cell_type'].value_counts()"
   ]
  },
  {
   "cell_type": "markdown",
   "metadata": {},
   "source": [
    "#### TLR genes in adata by treatment"
   ]
  },
  {
   "cell_type": "code",
   "execution_count": null,
   "metadata": {},
   "outputs": [],
   "source": [
    "TLR_genes = ['TLR7', 'TLR5', 'TLR2_1', 'TLR2_2', 'TLR3', 'TLR1', 'TLR21', 'TLR4']"
   ]
  },
  {
   "cell_type": "code",
   "execution_count": null,
   "metadata": {},
   "outputs": [],
   "source": [
    "sc.pl.umap(adata[adata.obs['treatment'] == 'control'], color=TLR_genes, size=50)\n",
    "sc.pl.dotplot(adata, TLR_genes, groupby='treatment', standard_scale='var')\n",
    "\n",
    "sc.pl.umap(adata[adata.obs['treatment'] == 'lps'], color=TLR_genes, size=50)\n",
    "#sc.pl.dotplot(adata, TLR_genes, groupby='treatment', standard_scale='var')\n",
    "\n",
    "sc.pl.umap(adata[adata.obs['treatment'] == 'pic'], color=TLR_genes, size=50)\n",
    "#sc.pl.dotplot(adata, TLR_genes, groupby='treatment', standard_scale='var')"
   ]
  },
  {
   "cell_type": "markdown",
   "metadata": {},
   "source": [
    "#### ISG genes in adata"
   ]
  },
  {
   "cell_type": "code",
   "execution_count": null,
   "metadata": {},
   "outputs": [],
   "source": [
    "df_isg_genes = pd.read_csv('/Code/data/single_cell/animals/chicken/ca1/new_genome/ISG_genes_ca1_new_genome.csv', index_col=0)\n",
    "df_isg_genes = df_isg_genes.sort_index()\n",
    "\n",
    "df_isg_genes"
   ]
  },
  {
   "cell_type": "code",
   "execution_count": null,
   "metadata": {},
   "outputs": [],
   "source": [
    "isg_genes_list = df_isg_genes.index.tolist()\n",
    "isg_genes_list"
   ]
  },
  {
   "cell_type": "markdown",
   "metadata": {},
   "source": [
    "##### UMAP's of the ISG genes"
   ]
  },
  {
   "cell_type": "code",
   "execution_count": null,
   "metadata": {},
   "outputs": [],
   "source": [
    "celltype = {'0':'Platelets','1':'T_cells','2':'B_cells','3':'Monocytes','4':'T_cells','5':'RBC','6':'Monocytes'}\n",
    "adata.obs['cell_type'] = adata.obs.leiden.map(celltype).astype('category')\n",
    "sc.pl.umap(adata, color=isg_genes_list, size=50)"
   ]
  },
  {
   "cell_type": "code",
   "execution_count": null,
   "metadata": {},
   "outputs": [],
   "source": [
    "sc.pl.umap(adata, color=['TLR7', 'TLR5', 'TLR2_1', 'TLR2_2', 'TLR3', 'TLR1', 'TLR21', 'TLR4'], size=50)"
   ]
  },
  {
   "cell_type": "markdown",
   "metadata": {},
   "source": [
    "##### Dotplot of the ISG genes in expressed in chicken"
   ]
  },
  {
   "cell_type": "code",
   "execution_count": null,
   "metadata": {},
   "outputs": [],
   "source": [
    "sc.pl.dotplot(adata, isg_genes_list, groupby='treatment', standard_scale='var')"
   ]
  },
  {
   "cell_type": "markdown",
   "metadata": {},
   "source": [
    "### Subclustering"
   ]
  },
  {
   "cell_type": "markdown",
   "metadata": {},
   "source": [
    "#### T cells"
   ]
  },
  {
   "cell_type": "code",
   "execution_count": null,
   "metadata": {},
   "outputs": [],
   "source": [
    "# Subclustering the T_cells cluster i found. there are two options to do the same function:\n",
    "\n",
    "subset_adata_t = adata[adata.obs.cell_type == 'T_cells'].copy()\n",
    "subset_adata_t\n",
    "\n",
    "# t_cluster = adata[adata.obs.leiden.isin(['1','4'])]\n",
    "\n",
    "# bbknn.bbknn(t_cluster, batch_key='treatment', neighbors_within_batch=2, metric='euclidean', n_pcs=30, trim=None)\n",
    "# sc.tl.umap(t_cluster)\n",
    "# sc.tl.leiden(t_cluster, resolution=0.4)\n",
    "# sc.pl.umap(t_cluster, color =['leiden'])"
   ]
  },
  {
   "cell_type": "code",
   "execution_count": null,
   "metadata": {},
   "outputs": [],
   "source": [
    "bbknn.bbknn(subset_adata_t, batch_key='treatment', neighbors_within_batch=2, metric='euclidean', n_pcs=30, trim=None)\n",
    "sc.tl.umap(subset_adata_t)\n",
    "sc.tl.leiden(subset_adata_t, resolution=0.4)\n",
    "sc.pl.umap(subset_adata_t, color=['CD3E','CD3D','CD28','TCF7','IL7R','CD8B','CD82','CD226',\n",
    "                                  'CD247','CD4','CD7_3','CD38','STMN1','LEF1','RORA','GPR171','CCR7',\n",
    "                                  'CXCR4','TCF7','GPR183_1','GPR183_2','ALOX5AP','IL7R','HOPX',\n",
    "                                  'CD8A_2','leiden'], size=30)"
   ]
  },
  {
   "cell_type": "code",
   "execution_count": null,
   "metadata": {},
   "outputs": [],
   "source": [
    "sc.tl.rank_genes_groups(subset_adata_t, 'leiden', method='wilcoxon')\n",
    "sc.pl.rank_genes_groups(subset_adata_t, n_genes=25, sharey=False)\n",
    "pd.set_option('display.max_columns', None)\n",
    "pd.DataFrame(subset_adata_t.uns['rank_genes_groups']['names']).head(100).to_csv(r'/Code/data/single_cell/animals/chicken/ca1/new_genome/''subset_adata_rank_genes_t_cells_top100.csv', index=False)"
   ]
  },
  {
   "cell_type": "code",
   "execution_count": null,
   "metadata": {},
   "outputs": [],
   "source": [
    "sc.pl.umap(subset_adata_t[subset_adata_t.obs['treatment'] == 'control'], color='CD28', size=30)\n",
    "sc.pl.dotplot(subset_adata_t, 'CD28', groupby='treatment', standard_scale='var')\n",
    "\n",
    "sc.pl.umap(subset_adata_t[subset_adata_t.obs['treatment'] == 'pic'], color='CD28', size=30)\n",
    "sc.pl.dotplot(subset_adata_t, 'CD28', groupby='treatment', standard_scale='var')"
   ]
  },
  {
   "cell_type": "code",
   "execution_count": null,
   "metadata": {},
   "outputs": [],
   "source": [
    "sc.tl.dendrogram(subset_adata_t, groupby='leiden')\n",
    "sc.pl.dendrogram(subset_adata_t, groupby='leiden')"
   ]
  },
  {
   "cell_type": "code",
   "execution_count": null,
   "metadata": {},
   "outputs": [],
   "source": [
    "subset_adata_t.obs['leiden'].value_counts()"
   ]
  },
  {
   "cell_type": "code",
   "execution_count": null,
   "metadata": {},
   "outputs": [],
   "source": [
    "sc.tl.leiden(subset_adata_t, resolution=0.4)\n",
    "clusgene = list(pd.DataFrame(subset_adata_t.uns['rank_genes_groups']['names']).head(100)['0'])\n",
    "sc.pl.dotplot(subset_adata_t, [i for i in clusgene[:50] if i.startswith('RP') == False], groupby='leiden', standard_scale=None)\n",
    "sc.pl.dotplot(subset_adata_t, ['CD3D','CD3E','CD28','CD226','CD247','CD4',\n",
    "                               'CD7_3','CD38','STMN1','LEF1','RORA','GPR171',\n",
    "                               'CCR7','CXCR4','TCF7','GPR183_1','GPR183_2',\n",
    "                               'ALOX5AP','IL7R','HOPX'], groupby='leiden', standard_scale='var')\n",
    "sc.pl.umap(subset_adata_t, color='leiden')    # For visualization only"
   ]
  },
  {
   "cell_type": "code",
   "execution_count": null,
   "metadata": {},
   "outputs": [],
   "source": [
    "# sc.pl.rank_genes_groups_dotplot(subset_adata, n_genes=5, standard_scale='var')\n",
    "sc.pl.umap(subset_adata_t, color=find_gene('CD4') + find_gene('CD8') + find_gene('NKG7')\n",
    "           + find_gene('CD226') + find_gene('IL2RA') + find_gene('CD247') \n",
    "           +find_gene('TCF7'), size=100)\n",
    "sc.pl.umap(subset_adata_t, color='treatment') \n",
    "sc.pl.umap(subset_adata_t, color='leiden')    # For visualization only"
   ]
  },
  {
   "cell_type": "code",
   "execution_count": null,
   "metadata": {},
   "outputs": [],
   "source": [
    "t_cell_type = {'0':'0','1':'1','2':'T_memory','3':'3','4':'4','5':'T_memory','6':'6'}\n",
    "subset_adata_t.obs['cell_type'] = subset_adata_t.obs.leiden.map(celltype).astype('category')\n",
    "sc.pl.umap(subset_adata_t, color='cell_type', size=30)"
   ]
  },
  {
   "cell_type": "markdown",
   "metadata": {},
   "source": [
    "## Gene search tools\n",
    "This function returns a list of genes that are present in adata (markers for example) from an input of a general list."
   ]
  },
  {
   "cell_type": "code",
   "execution_count": null,
   "metadata": {},
   "outputs": [],
   "source": [
    "def find_gene(gene):\n",
    "    GENES = list(adata.raw.var.index[adata.raw.var.index.str.startswith(gene.upper())])\n",
    "    return GENES\n",
    "\n",
    "find_gene('tlr')"
   ]
  },
  {
   "cell_type": "code",
   "execution_count": null,
   "metadata": {},
   "outputs": [],
   "source": [
    "# adata.var[adata.var_names == 'GZMK']\n",
    "adata.var[adata.var['gene_ids'] == 'ENSGALG00010003777']"
   ]
  }
 ],
 "metadata": {
  "kernelspec": {
   "display_name": "Python 3",
   "language": "python",
   "name": "python3"
  },
  "language_info": {
   "codemirror_mode": {
    "name": "ipython",
    "version": 3
   },
   "file_extension": ".py",
   "mimetype": "text/x-python",
   "name": "python",
   "nbconvert_exporter": "python",
   "pygments_lexer": "ipython3",
   "version": "3.10.11"
  },
  "orig_nbformat": 4
 },
 "nbformat": 4,
 "nbformat_minor": 2
}
