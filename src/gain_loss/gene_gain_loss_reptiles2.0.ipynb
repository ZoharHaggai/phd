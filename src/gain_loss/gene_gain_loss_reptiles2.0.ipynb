{
 "cells": [
  {
   "attachments": {},
   "cell_type": "markdown",
   "metadata": {},
   "source": [
    "# What is this Doing\n",
    "Takes in a `.csv` file and outputs CSVs which shows us the changes for `'+'` and for `'-'` of each species."
   ]
  },
  {
   "attachments": {},
   "cell_type": "markdown",
   "metadata": {},
   "source": [
    "### Imports"
   ]
  },
  {
   "cell_type": "code",
   "execution_count": null,
   "metadata": {},
   "outputs": [],
   "source": [
    "from itertools import product\n",
    "\n",
    "import numpy as np\n",
    "import pandas as pd"
   ]
  },
  {
   "attachments": {},
   "cell_type": "markdown",
   "metadata": {},
   "source": [
    "### DataFrames Initialization"
   ]
  },
  {
   "cell_type": "code",
   "execution_count": null,
   "metadata": {},
   "outputs": [],
   "source": [
    "\"\"\"\n",
    "A list of reptiles we are currently interested in\n",
    "\"\"\"\n",
    "\n",
    "reptile_names = [\n",
    "    'Archelosauria',\n",
    "    'Archosaura',\n",
    "    'Aves',\n",
    "    'Chrysemys picta bellii',\n",
    "    'Crocodylus porosus',\n",
    "    'Episquamata',\n",
    "    'Mammalia',\n",
    "    'Pogona vitticeps',\n",
    "    'Saura',\n",
    "    'Testudines',\n",
    "    'Toxicofera',\n",
    "    'Varanus komodoensis',\n",
    "]"
   ]
  },
  {
   "cell_type": "code",
   "execution_count": null,
   "metadata": {},
   "outputs": [],
   "source": [
    "\"\"\"\n",
    "Read the main DF containing the gene change type and count\n",
    "gene change type is one of `{'+', '-', '0'}`\n",
    "\"\"\"\n",
    "\n",
    "refs = ['gallus', 'human', 'lizard']\n",
    "ref_changes = ['plus', 'minus']\n",
    "\n",
    "# f'...' --> this means formatted string, what's inside the curly parentheses {} is treated as a variable. \n",
    "# In our case, {} is our changing reference.\n",
    "\n",
    "df = pd.read_csv(f'../output/{refs[0]}/df_{ref_changes[0]}.csv', index_col='Gene Id')\n",
    "df = df.sort_index()\n",
    "\n",
    "df"
   ]
  },
  {
   "cell_type": "code",
   "execution_count": null,
   "metadata": {},
   "outputs": [],
   "source": [
    "reptile_names_not_in_df = [\n",
    "    name\n",
    "    for name in reptile_names\n",
    "    if name not in df.columns\n",
    "]\n",
    "\n",
    "reptile_names_in_df = [\n",
    "    name\n",
    "    for name in reptile_names\n",
    "    if name in df.columns\n",
    "]\n",
    "\n",
    "reptile_names_not_in_df, reptile_names_in_df"
   ]
  },
  {
   "cell_type": "code",
   "execution_count": null,
   "metadata": {},
   "outputs": [],
   "source": [
    "reptile_df = df[['Gene Name'] + reptile_names_in_df]\n",
    "\n",
    "reptile_df"
   ]
  },
  {
   "cell_type": "code",
   "execution_count": null,
   "metadata": {},
   "outputs": [],
   "source": [
    "# reptile_df.to_csv(f'../output/{refs[0]}/reptile_df_{ref_changes[0]}.csv')"
   ]
  },
  {
   "attachments": {},
   "cell_type": "markdown",
   "metadata": {},
   "source": [
    "## The actual thingy "
   ]
  },
  {
   "cell_type": "code",
   "execution_count": null,
   "metadata": {},
   "outputs": [],
   "source": [
    "for ref, change in product(refs, ref_changes):\n",
    "    df = pd.read_csv(f'../output/{ref}/df_{change}.csv', index_col='Gene Id')\n",
    "    df = df.sort_index()\n",
    "\n",
    "    reptile_names_in_df = [\n",
    "        name\n",
    "        for name in reptile_names\n",
    "        if name in df.columns\n",
    "    ]\n",
    "\n",
    "    reptile_df = df[['Gene Name'] + reptile_names_in_df]\n",
    "    reptile_df.to_csv(f'../output/{ref}/{ref}_reptile_df_{change}.csv')"
   ]
  }
 ],
 "metadata": {
  "kernelspec": {
   "display_name": "Python 3",
   "language": "python",
   "name": "python3"
  },
  "language_info": {
   "codemirror_mode": {
    "name": "ipython",
    "version": 3
   },
   "file_extension": ".py",
   "mimetype": "text/x-python",
   "name": "python",
   "nbconvert_exporter": "python",
   "pygments_lexer": "ipython3",
   "version": "3.8.5"
  },
  "orig_nbformat": 4
 },
 "nbformat": 4,
 "nbformat_minor": 2
}
