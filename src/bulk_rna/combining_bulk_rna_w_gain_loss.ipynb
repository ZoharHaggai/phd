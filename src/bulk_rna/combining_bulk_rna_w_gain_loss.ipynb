{
 "cells": [
  {
   "cell_type": "markdown",
   "metadata": {},
   "source": [
    "# What is this doing\n",
    "\n",
    "\n",
    "Takes the bulk RNA-seq data (the upregulated DE genes) and combines it with the gene gain & loss data I analyzed."
   ]
  },
  {
   "cell_type": "markdown",
   "metadata": {},
   "source": [
    "## Setup"
   ]
  },
  {
   "cell_type": "markdown",
   "metadata": {},
   "source": [
    "### Imports"
   ]
  },
  {
   "cell_type": "code",
   "execution_count": null,
   "metadata": {},
   "outputs": [],
   "source": [
    "import numpy as np\n",
    "import pandas as pd\n",
    "\n",
    "import re\n",
    "from itertools import product\n",
    "from pathlib import Path\n",
    "\n",
    "# Path.cwd()"
   ]
  },
  {
   "cell_type": "markdown",
   "metadata": {},
   "source": [
    "### DataFrames Initialization"
   ]
  },
  {
   "cell_type": "code",
   "execution_count": null,
   "metadata": {},
   "outputs": [],
   "source": [
    "# bulk rna upregulated genes\n",
    "\n",
    "# animal = 'chicken_109'\n",
    "animal = 'chicken_grcg6a'\n",
    "# animal = 'crocodile'\n",
    "# animal = 'turtle_painted'\n",
    "# animal = 'komodo'\n",
    "\n",
    "# sample_type = 'pic'\n",
    "sample_type = 'lps'\n",
    "\n",
    "hour = 4\n",
    "# hour = 8\n",
    "# hour = 24\n",
    "\n",
    "\n",
    "# gene gain & loss genes\n",
    "\n",
    "ref = 'gallus'\n",
    "# ref = 'human'\n",
    "# ref = 'lizard'"
   ]
  },
  {
   "cell_type": "markdown",
   "metadata": {},
   "source": [
    "#### Reading the excisting DataFrames I created previously "
   ]
  },
  {
   "cell_type": "code",
   "execution_count": null,
   "metadata": {},
   "outputs": [],
   "source": [
    "# read bulk rna upregulated genes\n",
    "\n",
    "df_animals = pd.read_csv(f'../../data/bulk_rna/animals/{animal}/edge_r/filtered/significant_logfc/{sample_type}_{hour}_logfc_up.csv', index_col=0)\n",
    "df_animals = df_animals.sort_index()\n",
    "\n",
    "df_animals"
   ]
  },
  {
   "cell_type": "code",
   "execution_count": null,
   "metadata": {},
   "outputs": [],
   "source": [
    "# read gene gain & loss genes\n",
    "\n",
    "df_reptile = pd.read_csv(f'../../data/gain_loss/gene_difference/{ref}/{ref}_reptile_df_plus.csv', index_col=0)\n",
    "df_reptile = df_reptile.sort_index()\n",
    "\n",
    "df_reptile"
   ]
  },
  {
   "cell_type": "markdown",
   "metadata": {},
   "source": [
    "#### Creating the new DataFrame"
   ]
  },
  {
   "cell_type": "code",
   "execution_count": null,
   "metadata": {},
   "outputs": [],
   "source": [
    "# df_reptile.isin(df_animals)\n",
    "\n",
    "df_combined = df_reptile.merge(df_animals, left_index=True, right_index=True, how='inner')\n",
    "\n",
    "df_combined"
   ]
  },
  {
   "cell_type": "markdown",
   "metadata": {},
   "source": [
    "#### Update of the new DataFrame"
   ]
  },
  {
   "cell_type": "code",
   "execution_count": null,
   "metadata": {},
   "outputs": [],
   "source": [
    "# 'Gallus gallus'\n",
    "# 'Human'\n",
    "# 'Mouse'\n",
    "values_tokeep = ['Gene Name', \n",
    "                 'Chrysemys picta bellii',\n",
    "                 'Crocodylus porosus',\n",
    "                 'Varanus komodoensis', \n",
    "                 'logFC',\n",
    "                 'PValue']\n",
    "\n",
    "df_combined = df_combined[values_tokeep]\n",
    "df_combined.index.name = 'Gene Id'\n",
    "\n",
    "df_combined"
   ]
  },
  {
   "cell_type": "markdown",
   "metadata": {},
   "source": [
    "## Export"
   ]
  },
  {
   "cell_type": "code",
   "execution_count": null,
   "metadata": {},
   "outputs": [],
   "source": [
    "# creating a new csv file with the new df with three reptiles\n",
    "\n",
    "df_combined.to_csv(f'../../data/gain_loss/gene_difference/{ref}/{ref}_combined_df.csv')"
   ]
  }
 ],
 "metadata": {
  "kernelspec": {
   "display_name": "Python 3",
   "language": "python",
   "name": "python3"
  },
  "language_info": {
   "codemirror_mode": {
    "name": "ipython",
    "version": 3
   },
   "file_extension": ".py",
   "mimetype": "text/x-python",
   "name": "python",
   "nbconvert_exporter": "python",
   "pygments_lexer": "ipython3",
   "version": "3.10.11"
  },
  "orig_nbformat": 4
 },
 "nbformat": 4,
 "nbformat_minor": 2
}
